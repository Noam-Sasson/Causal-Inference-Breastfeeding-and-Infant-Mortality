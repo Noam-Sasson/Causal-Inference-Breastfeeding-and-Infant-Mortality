{
 "cells": [
  {
   "cell_type": "markdown",
   "id": "be2d100e",
   "metadata": {},
   "source": [
    "# T-Learner and S-Learner Estimators"
   ]
  },
  {
   "cell_type": "markdown",
   "id": "9e24dde9",
   "metadata": {},
   "source": [
    "### Necessary Libraries"
   ]
  },
  {
   "cell_type": "code",
   "execution_count": 59,
   "id": "63002aa7",
   "metadata": {},
   "outputs": [
    {
     "name": "stdout",
     "output_type": "stream",
     "text": [
      "Requirement already satisfied: tableone in c:\\users\\lenovo\\miniconda3\\lib\\site-packages (0.9.5)\n",
      "Requirement already satisfied: jinja2>=3.1.4 in c:\\users\\lenovo\\miniconda3\\lib\\site-packages (from tableone) (3.1.4)\n",
      "Requirement already satisfied: numpy>=1.19.1 in c:\\users\\lenovo\\miniconda3\\lib\\site-packages (from tableone) (1.26.4)\n",
      "Requirement already satisfied: openpyxl>=3.1.2 in c:\\users\\lenovo\\miniconda3\\lib\\site-packages (from tableone) (3.1.5)\n",
      "Requirement already satisfied: pandas>=2.0.3 in c:\\users\\lenovo\\miniconda3\\lib\\site-packages (from tableone) (2.3.1)\n",
      "Requirement already satisfied: scipy>=1.10.1 in c:\\users\\lenovo\\miniconda3\\lib\\site-packages (from tableone) (1.14.1)\n",
      "Requirement already satisfied: statsmodels>=0.14.1 in c:\\users\\lenovo\\miniconda3\\lib\\site-packages (from tableone) (0.14.4)\n",
      "Requirement already satisfied: tabulate>=0.9.0 in c:\\users\\lenovo\\miniconda3\\lib\\site-packages (from tableone) (0.9.0)\n",
      "Requirement already satisfied: MarkupSafe>=2.0 in c:\\users\\lenovo\\miniconda3\\lib\\site-packages (from jinja2>=3.1.4->tableone) (3.0.2)\n",
      "Requirement already satisfied: et-xmlfile in c:\\users\\lenovo\\miniconda3\\lib\\site-packages (from openpyxl>=3.1.2->tableone) (2.0.0)\n",
      "Requirement already satisfied: python-dateutil>=2.8.2 in c:\\users\\lenovo\\miniconda3\\lib\\site-packages (from pandas>=2.0.3->tableone) (2.9.0)\n",
      "Requirement already satisfied: pytz>=2020.1 in c:\\users\\lenovo\\miniconda3\\lib\\site-packages (from pandas>=2.0.3->tableone) (2024.2)\n",
      "Requirement already satisfied: tzdata>=2022.7 in c:\\users\\lenovo\\miniconda3\\lib\\site-packages (from pandas>=2.0.3->tableone) (2024.2)\n",
      "Requirement already satisfied: patsy>=0.5.6 in c:\\users\\lenovo\\miniconda3\\lib\\site-packages (from statsmodels>=0.14.1->tableone) (1.0.1)\n",
      "Requirement already satisfied: packaging>=21.3 in c:\\users\\lenovo\\miniconda3\\lib\\site-packages (from statsmodels>=0.14.1->tableone) (23.2)\n",
      "Requirement already satisfied: six>=1.5 in c:\\users\\lenovo\\miniconda3\\lib\\site-packages (from python-dateutil>=2.8.2->pandas>=2.0.3->tableone) (1.16.0)\n"
     ]
    }
   ],
   "source": [
    "! pip install tableone"
   ]
  },
  {
   "cell_type": "code",
   "execution_count": 60,
   "id": "2c9cf8a5",
   "metadata": {},
   "outputs": [],
   "source": [
    "import pandas as pd\n",
    "from sklearn.model_selection import train_test_split\n",
    "from tableone import TableOne\n",
    "import numpy as np\n",
    "import matplotlib.pyplot as plt\n",
    "\n",
    "RANDOM_SEED = 42 # do not change"
   ]
  },
  {
   "cell_type": "code",
   "execution_count": 61,
   "id": "062f6b9d",
   "metadata": {},
   "outputs": [],
   "source": [
    "data = pd.read_csv(\"data/sampled_infant_mortality_data_imputed_m1.csv\")"
   ]
  },
  {
   "cell_type": "code",
   "execution_count": 62,
   "id": "0045d68d",
   "metadata": {},
   "outputs": [],
   "source": [
    "confounders = data.columns.tolist()\n",
    "confounders.remove('T')\n",
    "confounders.remove('Y')\n",
    "X = data[confounders]\n",
    "T = data['T']\n",
    "y = data['Y']"
   ]
  },
  {
   "cell_type": "markdown",
   "id": "2a739473",
   "metadata": {},
   "source": [
    "# Propensity Model"
   ]
  },
  {
   "cell_type": "code",
   "execution_count": 63,
   "id": "ce608b4b",
   "metadata": {},
   "outputs": [],
   "source": [
    "X_train, X_val, T_train, T_val, y_train, y_val = train_test_split(X, T, y, test_size=0.3, random_state=random_seed)"
   ]
  },
  {
   "cell_type": "code",
   "execution_count": 64,
   "id": "0cbd7659",
   "metadata": {},
   "outputs": [],
   "source": [
    "def train_propensity_model(model, X_train, T_train):\n",
    "    \"\"\"\n",
    "    Return a fitted propensity model on your training data\n",
    "    :param model: \n",
    "    :param X_train: \n",
    "    :param T_train: \n",
    "    :return: \n",
    "    \"\"\"\n",
    "    return model.fit(X_train, T_train)\n",
    "\n",
    "def eval_propensity_model(fitted_model, X_val, T_val):\n",
    "    \"\"\"\n",
    "    Check your fitted propensity model using the brier score and calibration curve.\n",
    "    \n",
    "    You must print or return (and then print for us to see) the brier score. \n",
    "    You must show the calibration curve.\n",
    "    :param fitted_model: \n",
    "    :param X_val: \n",
    "    :param T_val: \n",
    "    :return: \n",
    "    \"\"\"\n",
    "    \n",
    "    propensity_scores = fitted_model.predict_proba(X_val)[:, 1]\n",
    "    propensity_bins = pd.cut(propensity_scores, bins=10, labels=False)\n",
    "    brier_score = ((T_val - propensity_scores) ** 2).mean()\n",
    "    print(f\"Brier Score: {brier_score}\")\n",
    "    \n",
    "    # Plotting the calibration curve\n",
    "    import matplotlib.pyplot as plt\n",
    "    from sklearn.calibration import calibration_curve\n",
    "    prob_true, prob_pred = calibration_curve(T_val, propensity_scores, n_bins=10)\n",
    "    plt.figure(figsize=(8, 6))\n",
    "    plt.plot(prob_pred, prob_true, marker='o', label='Calibration Curve')\n",
    "    plt.plot([0, 1], [0, 1], linestyle='--', color='red', label='Perfectly Calibrated')\n",
    "    plt.xlabel('Predicted Probability')\n",
    "    plt.ylabel('True Probability')\n",
    "    plt.title('Calibration Curve')\n",
    "    plt.legend()\n",
    "    plt.grid()\n",
    "    plt.show()\n",
    "    return brier_score"
   ]
  },
  {
   "cell_type": "markdown",
   "id": "f96ca7c9",
   "metadata": {},
   "source": [
    "suggested propensity models"
   ]
  },
  {
   "cell_type": "code",
   "execution_count": 65,
   "id": "49dc90ae",
   "metadata": {},
   "outputs": [],
   "source": [
    "# model 1: logostic regression\n",
    "from sklearn.linear_model import LogisticRegression\n",
    "def create_logistic_regression(X_train, T_train):\n",
    "    \"\"\"\n",
    "    Train a logistic regression model for propensity score estimation.\n",
    "    :param X_train: \n",
    "    :param T_train: \n",
    "    :return: \n",
    "    \"\"\"\n",
    "    model = LogisticRegression(max_iter=1000, random_state=RANDOM_SEED)\n",
    "    return model\n",
    "\n",
    "\n",
    "#model 2: MLP\n",
    "from torch import nn\n",
    "import torch\n",
    "import numpy\n",
    "def create_neural_network(X_train, T_train):\n",
    "    \"\"\"\n",
    "    Train a neural network model for propensity score estimation.\n",
    "    :param X_train: \n",
    "    :param T_train: \n",
    "    :return: \n",
    "    \"\"\"\n",
    "    class SimpleNN(nn.Module):\n",
    "        # set seed for reproducibility\n",
    "        torch.manual_seed(RANDOM_SEED)\n",
    "        numpy.random.seed(RANDOM_SEED)\n",
    "        def __init__(self, input_size):\n",
    "            super(SimpleNN, self).__init__()\n",
    "            self.fc1 = nn.Linear(input_size, 10)\n",
    "            self.relue = nn.ReLU()\n",
    "            self.fc2 = nn.Linear(10, 1)\n",
    "            self.sigmoid = nn.Sigmoid()\n",
    "            self.last_3_losses = []\n",
    "\n",
    "        def forward(self, x):\n",
    "            x = self.fc1(x)\n",
    "            x = self.relue(x)\n",
    "            x = self.fc2(x)\n",
    "            x = self.sigmoid(x)\n",
    "            return x\n",
    "        \n",
    "        def should_stop(self):\n",
    "            if len(self.last_3_losses) < 4:\n",
    "                return False\n",
    "            if self.last_3_losses[-1] > self.last_3_losses[-2] and self.last_3_losses[-2] > self.last_3_losses[-3] and self.last_3_losses[-3] > self.last_3_losses[-4]:\n",
    "                return True\n",
    "            return False\n",
    "        \n",
    "        def fit(self, X, T):\n",
    "            criterion = nn.BCELoss()\n",
    "            optimizer = torch.optim.Adam(self.parameters(), lr=0.01)\n",
    "            X_train_tensor = torch.tensor(X.values, dtype=torch.float32)\n",
    "            T_train_tensor = torch.tensor(T.values, dtype=torch.float32).unsqueeze(1)\n",
    "            \n",
    "            best_model = None\n",
    "            best_loss = float('inf')\n",
    "            while not self.should_stop():\n",
    "                self.last_3_losses.append(criterion(self(X_train_tensor), T_train_tensor).item())\n",
    "                if len(self.last_3_losses) > 4:\n",
    "                    self.last_3_losses.pop(0)\n",
    "                optimizer.zero_grad()\n",
    "                outputs = self(X_train_tensor)\n",
    "                loss = criterion(outputs, T_train_tensor)\n",
    "                loss.backward()\n",
    "                optimizer.step()\n",
    "\n",
    "                if loss.item() < best_loss:\n",
    "                    best_loss = loss.item()\n",
    "                    best_model = self.state_dict()\n",
    "\n",
    "            self.load_state_dict(best_model)\n",
    "            self.eval()\n",
    "            \n",
    "            return self\n",
    "        \n",
    "        def predict_proba(self, X):\n",
    "            X_tensor = torch.tensor(X.values, dtype=torch.float32)\n",
    "            with torch.no_grad():\n",
    "                outputs = self(X_tensor) \n",
    "\n",
    "            final_res = numpy.zeros((outputs.shape[0], 2))\n",
    "            final_res[:, 0] = 1 - outputs.numpy().reshape(-1)\n",
    "            final_res[:, 1] = outputs.numpy().reshape(-1)   \n",
    "            return final_res\n",
    "            \n",
    "    model = SimpleNN(X_train.shape[1])\n",
    "    return model "
   ]
  },
  {
   "cell_type": "code",
   "execution_count": 66,
   "id": "2d653932",
   "metadata": {},
   "outputs": [
    {
     "name": "stdout",
     "output_type": "stream",
     "text": [
      "Brier Score: 0.13734386363892392\n"
     ]
    },
    {
     "name": "stderr",
     "output_type": "stream",
     "text": [
      "c:\\Users\\Lenovo\\miniconda3\\Lib\\site-packages\\sklearn\\linear_model\\_logistic.py:473: ConvergenceWarning: lbfgs failed to converge after 1000 iteration(s) (status=1):\n",
      "STOP: TOTAL NO. of ITERATIONS REACHED LIMIT\n",
      "\n",
      "Increase the number of iterations to improve the convergence (max_iter=1000).\n",
      "You might also want to scale the data as shown in:\n",
      "    https://scikit-learn.org/stable/modules/preprocessing.html\n",
      "Please also refer to the documentation for alternative solver options:\n",
      "    https://scikit-learn.org/stable/modules/linear_model.html#logistic-regression\n",
      "  n_iter_i = _check_optimize_result(\n"
     ]
    },
    {
     "data": {
      "image/png": "[encoded data removed]",
      "text/plain": [
       "<Figure size 800x600 with 1 Axes>"
      ]
     },
     "metadata": {},
     "output_type": "display_data"
    },
    {
     "data": {
      "text/plain": [
       "0.13734386363892392"
      ]
     },
     "execution_count": 66,
     "metadata": {},
     "output_type": "execute_result"
    }
   ],
   "source": [
    "# model 1: Logistic Regression\n",
    "logist_reg = create_logistic_regression(X_train, T_train)\n",
    "\n",
    "propensity_model_reg = train_propensity_model(logist_reg, X_train, T_train)\n",
    "eval_propensity_model(propensity_model_reg, X_val, T_val)"
   ]
  },
  {
   "cell_type": "code",
   "execution_count": 67,
   "id": "6d7b219e",
   "metadata": {},
   "outputs": [
    {
     "name": "stdout",
     "output_type": "stream",
     "text": [
      "Brier Score: 0.16922209586796633\n"
     ]
    },
    {
     "data": {
      "image/png": "[encoded data removed]",
      "text/plain": [
       "<Figure size 800x600 with 1 Axes>"
      ]
     },
     "metadata": {},
     "output_type": "display_data"
    },
    {
     "data": {
      "text/plain": [
       "0.16922209586796633"
      ]
     },
     "execution_count": 67,
     "metadata": {},
     "output_type": "execute_result"
    }
   ],
   "source": [
    "# model 2: Neural Network\n",
    "nn_model = create_neural_network(X_train, T_train)\n",
    "propensity_model_nn = train_propensity_model(nn_model, X_train, T_train)\n",
    "eval_propensity_model(propensity_model_nn, X_val, T_val)"
   ]
  },
  {
   "cell_type": "code",
   "execution_count": 68,
   "id": "16b21f4a",
   "metadata": {},
   "outputs": [],
   "source": [
    "def check_overlap_and_get_trimming_points(propensity_model, X_train, T_train, low_clip=0, high_clip=1):\n",
    "    \"\"\"\n",
    "    Show histograms of the propensity on the T=0 and the T=1 group like in the tutorial\n",
    "    Use this to ascertain if there is a violation of overlap.\n",
    "    \n",
    "    You must show the graph.\n",
    "    :param propensity_model: \n",
    "    :param X_train: \n",
    "    :param T_train: \n",
    "    :return: \n",
    "    \"\"\"\n",
    "    \n",
    "    propensity_scores = propensity_model.predict_proba(X_train)[:, 1]\n",
    "    max_point = np.percentile(propensity_scores, high_clip)\n",
    "    min_point = np.percentile(propensity_scores, low_clip)\n",
    "\n",
    "    import matplotlib.pyplot as plt\n",
    "    \n",
    "    plt.figure(figsize=(10, 6))\n",
    "    plt.hist(propensity_scores[T_train == 0], bins=30, alpha=0.5, label='T=0', color='blue')\n",
    "    plt.hist(propensity_scores[T_train == 1], bins=30, alpha=0.5, label='T=1', color='orange')\n",
    "    plt.axvline(max_point, color='red', linestyle='--', label='Max Trimming Point (99th Percentile)')\n",
    "    plt.axvline(min_point, color='green', linestyle='--', label='Min Trimming Point (1st Percentile)')\n",
    "    plt.xlabel('Propensity Score')\n",
    "    plt.ylabel('Frequency')\n",
    "    plt.title('Propensity Score Distribution by Treatment Group')\n",
    "    plt.legend()\n",
    "    plt.grid()\n",
    "    plt.show()\n",
    "\n",
    "    return max_point, min_point"
   ]
  },
  {
   "cell_type": "code",
   "execution_count": 69,
   "id": "1e8cedc5",
   "metadata": {},
   "outputs": [
    {
     "data": {
      "image/png": "[encoded data removed]",
      "text/plain": [
       "<Figure size 1000x600 with 1 Axes>"
      ]
     },
     "metadata": {},
     "output_type": "display_data"
    }
   ],
   "source": [
    "max_point, min_point = check_overlap_and_get_trimming_points(propensity_model_reg, X_val, T_val, 0.05, 98)"
   ]
  },
  {
   "cell_type": "markdown",
   "id": "a068f2b5",
   "metadata": {},
   "source": [
    "decide trimming points"
   ]
  },
  {
   "cell_type": "code",
   "execution_count": 70,
   "id": "78641b1b",
   "metadata": {},
   "outputs": [
    {
     "name": "stdout",
     "output_type": "stream",
     "text": [
      "number of examples removed in train: 1862\n",
      "number of examples in train after trimming: 84488\n",
      "number of examples removed in val: 760\n",
      "number of examples in val after trimming: 36248\n"
     ]
    }
   ],
   "source": [
    "T_train_prop = propensity_model_reg.predict_proba(X_train)[:, 1]\n",
    "\n",
    "mask_train = (T_train_prop > min_point) & (T_train_prop < max_point)\n",
    "X_train_trimmed = X_train[mask_train]\n",
    "T_train_trimmed = T_train[mask_train]\n",
    "y_train_trimmed = y_train[mask_train]\n",
    "T_train_prop_trimmed = T_train_prop[mask_train]\n",
    "\n",
    "print(\"number of examples removed in train:\", X_train.shape[0] - X_train_trimmed.shape[0])\n",
    "print(\"number of examples in train after trimming:\", X_train_trimmed.shape[0])\n",
    "\n",
    "T_val_prop = propensity_model_reg.predict_proba(X_val)[:, 1]\n",
    "mask_val = (T_val_prop > min_point) & (T_val_prop < max_point)\n",
    "X_val_trimmed = X_val[mask_val]\n",
    "T_val_trimmed = T_val[mask_val]\n",
    "y_val_trimmed = y_val[mask_val]\n",
    "T_val_prop_trimmed = T_val_prop[mask_val]\n",
    "\n",
    "print(\"number of examples removed in val:\", X_val.shape[0] - X_val_trimmed.shape[0])\n",
    "print(\"number of examples in val after trimming:\", X_val_trimmed.shape[0])"
   ]
  },
  {
   "cell_type": "code",
   "execution_count": 71,
   "id": "56ed4e91",
   "metadata": {},
   "outputs": [
    {
     "name": "stderr",
     "output_type": "stream",
     "text": [
      "C:\\Users\\Lenovo\\AppData\\Local\\Temp\\ipykernel_28520\\4031557829.py:1: SettingWithCopyWarning: \n",
      "A value is trying to be set on a copy of a slice from a DataFrame.\n",
      "Try using .loc[row_indexer,col_indexer] = value instead\n",
      "\n",
      "See the caveats in the documentation: https://pandas.pydata.org/pandas-docs/stable/user_guide/indexing.html#returning-a-view-versus-a-copy\n",
      "  X_train_trimmed['T'] = T_train_trimmed\n",
      "C:\\Users\\Lenovo\\AppData\\Local\\Temp\\ipykernel_28520\\4031557829.py:2: SettingWithCopyWarning: \n",
      "A value is trying to be set on a copy of a slice from a DataFrame.\n",
      "Try using .loc[row_indexer,col_indexer] = value instead\n",
      "\n",
      "See the caveats in the documentation: https://pandas.pydata.org/pandas-docs/stable/user_guide/indexing.html#returning-a-view-versus-a-copy\n",
      "  X_val_trimmed['T'] = T_val_trimmed\n"
     ]
    }
   ],
   "source": [
    "X_train_trimmed['T'] = T_train_trimmed\n",
    "X_val_trimmed['T'] = T_val_trimmed"
   ]
  },
  {
   "cell_type": "markdown",
   "id": "e67ff2db",
   "metadata": {},
   "source": [
    "get label distribution after trimming"
   ]
  },
  {
   "cell_type": "code",
   "execution_count": 72,
   "id": "de666e1d",
   "metadata": {},
   "outputs": [
    {
     "data": {
      "text/html": [
       "<div>\n",
       "<style scoped>\n",
       "    .dataframe tbody tr th:only-of-type {\n",
       "        vertical-align: middle;\n",
       "    }\n",
       "\n",
       "    .dataframe tbody tr th {\n",
       "        vertical-align: top;\n",
       "    }\n",
       "\n",
       "    .dataframe thead th {\n",
       "        text-align: right;\n",
       "    }\n",
       "</style>\n",
       "<table border=\"1\" class=\"dataframe\">\n",
       "  <thead>\n",
       "    <tr style=\"text-align: right;\">\n",
       "      <th>y</th>\n",
       "      <th>0</th>\n",
       "      <th>1</th>\n",
       "    </tr>\n",
       "    <tr>\n",
       "      <th>T</th>\n",
       "      <th></th>\n",
       "      <th></th>\n",
       "    </tr>\n",
       "  </thead>\n",
       "  <tbody>\n",
       "    <tr>\n",
       "      <th>0.0</th>\n",
       "      <td>16110</td>\n",
       "      <td>11456</td>\n",
       "    </tr>\n",
       "    <tr>\n",
       "      <th>1.0</th>\n",
       "      <td>81688</td>\n",
       "      <td>11482</td>\n",
       "    </tr>\n",
       "  </tbody>\n",
       "</table>\n",
       "</div>"
      ],
      "text/plain": [
       "y        0      1\n",
       "T                \n",
       "0.0  16110  11456\n",
       "1.0  81688  11482"
      ]
     },
     "metadata": {},
     "output_type": "display_data"
    }
   ],
   "source": [
    "X_inference_trimmed_temp = pd.concat([X_train_trimmed, X_val_trimmed], axis = 0)\n",
    "\n",
    "X_inference_trimmed_temp['y'] = pd.concat([y_train_trimmed, y_val_trimmed], axis = 0)\n",
    "# get table of T, and y cross counts\n",
    "T_y_counts = pd.crosstab(X_inference_trimmed_temp['T'], X_inference_trimmed_temp['y'])\n",
    "\n",
    "display(T_y_counts)"
   ]
  },
  {
   "cell_type": "code",
   "execution_count": 73,
   "id": "e7138c19",
   "metadata": {},
   "outputs": [
    {
     "data": {
      "text/html": [
       "<div>\n",
       "<style scoped>\n",
       "    .dataframe tbody tr th:only-of-type {\n",
       "        vertical-align: middle;\n",
       "    }\n",
       "\n",
       "    .dataframe tbody tr th {\n",
       "        vertical-align: top;\n",
       "    }\n",
       "\n",
       "    .dataframe thead th {\n",
       "        text-align: right;\n",
       "    }\n",
       "</style>\n",
       "<table border=\"1\" class=\"dataframe\">\n",
       "  <thead>\n",
       "    <tr style=\"text-align: right;\">\n",
       "      <th>y</th>\n",
       "      <th>0</th>\n",
       "      <th>1</th>\n",
       "    </tr>\n",
       "    <tr>\n",
       "      <th>T</th>\n",
       "      <th></th>\n",
       "      <th></th>\n",
       "    </tr>\n",
       "  </thead>\n",
       "  <tbody>\n",
       "    <tr>\n",
       "      <th>0.0</th>\n",
       "      <td>4822</td>\n",
       "      <td>3433</td>\n",
       "    </tr>\n",
       "    <tr>\n",
       "      <th>1.0</th>\n",
       "      <td>24558</td>\n",
       "      <td>3435</td>\n",
       "    </tr>\n",
       "  </tbody>\n",
       "</table>\n",
       "</div>"
      ],
      "text/plain": [
       "y        0     1\n",
       "T               \n",
       "0.0   4822  3433\n",
       "1.0  24558  3435"
      ]
     },
     "metadata": {},
     "output_type": "display_data"
    }
   ],
   "source": [
    "\n",
    "X_val_trimmed_temp = X_val_trimmed.copy()\n",
    "X_val_trimmed_temp['y'] = y_val_trimmed.copy()\n",
    "T_y_counts_val = pd.crosstab(X_val_trimmed_temp['T'], X_val_trimmed_temp['y'])\n",
    "\n",
    "display(T_y_counts_val)"
   ]
  },
  {
   "cell_type": "markdown",
   "id": "77cd158f",
   "metadata": {},
   "source": [
    "# S-Learner"
   ]
  },
  {
   "cell_type": "markdown",
   "id": "2cfeb57a",
   "metadata": {},
   "source": [
    "### Model Selection"
   ]
  },
  {
   "cell_type": "markdown",
   "id": "f5aff509",
   "metadata": {},
   "source": [
    "suggested models:\n",
    "- Logistic Regression\n",
    "- Random Forest\n",
    "- Neural Network"
   ]
  },
  {
   "cell_type": "code",
   "execution_count": 74,
   "id": "d347d16d",
   "metadata": {},
   "outputs": [],
   "source": [
    "def train_s_learner(model, X_train, y_train):\n",
    "    \"\"\"\n",
    "    Return a fitted s-learner model on your training data\n",
    "    :param model: \n",
    "    :param X_train: \n",
    "    :param y_train: \n",
    "    :return: \n",
    "    \"\"\"\n",
    "    return model.fit(X_train, y_train)\n",
    "\n",
    "def s_learner_model_selection(models, metric, X_train, y_train, X_val, y_val):\n",
    "    \"\"\"\n",
    "    Use the validation set to select the model with the best performance over the provided metric (e.g. rmse)\n",
    "    Note that X_train and X_val must include the treatment column for the s-learner.\n",
    "    \n",
    "    You may select models in a more complicated way (like you would in real life). But here you can simplify.\n",
    "    You must either return the fitted model or show the scores that lead to your decision.\n",
    "    :param model: \n",
    "    :param metric:\n",
    "    :param X_train: \n",
    "    :param y_train: \n",
    "    :param X_val: \n",
    "    :param y_val: \n",
    "    :return: \n",
    "    \"\"\"\n",
    "\n",
    "    models_scores = {model_name: {'score': 0, 'f_model': None} for model_name in models.keys()}\n",
    "\n",
    "    for model_name, model in models.items():\n",
    "        # train the model\n",
    "        fitted_model = train_s_learner(model, X_train, y_train)\n",
    "        # make predictions on the validation set\n",
    "        predictions = fitted_model.predict(X_val)\n",
    "        # calculate the metric\n",
    "        if metric == 'rmse':\n",
    "            score = ((predictions - y_val) ** 2).mean() ** 0.5\n",
    "        elif metric == 'mae':\n",
    "            score = (abs(predictions - y_val)).mean()\n",
    "        else:\n",
    "            raise ValueError(\"Unsupported metric. Use 'rmse' or 'mae'.\")\n",
    "        \n",
    "        models_scores[model_name]['score'] = score\n",
    "        models_scores[model_name]['f_model'] = fitted_model\n",
    "\n",
    "        print(f\"Model: {model_name}, {metric.upper()}: {score}\")\n",
    "\n",
    "    # Select the model with the best score\n",
    "    best_model_name = min(models_scores, key=lambda k: models_scores[k]['score'])\n",
    "    print(f\"Best model: {best_model_name} with {metric.upper()}: {models_scores[best_model_name]['score']}\")\n",
    "\n",
    "    return models_scores[best_model_name]['f_model']"
   ]
  },
  {
   "cell_type": "code",
   "execution_count": 75,
   "id": "2014a3c1",
   "metadata": {},
   "outputs": [],
   "source": [
    "def accuracy_score(y_true, y_pred):\n",
    "    return np.mean(y_true == y_pred)\n",
    "\n",
    "def f1_score(y_true, y_pred):\n",
    "    tp = np.sum((y_true == 1) & (y_pred == 1))\n",
    "    fp = np.sum((y_true == 0) & (y_pred == 1))\n",
    "    fn = np.sum((y_true == 1) & (y_pred == 0))\n",
    "    return 2 * tp / (2 * tp + fp + fn)\n"
   ]
  },
  {
   "cell_type": "markdown",
   "id": "1bebd899",
   "metadata": {},
   "source": [
    "### Logistic Regression"
   ]
  },
  {
   "cell_type": "code",
   "execution_count": 76,
   "id": "4086cbe3",
   "metadata": {},
   "outputs": [],
   "source": [
    "class AbstractModel:\n",
    "    def __init__(self, **params):\n",
    "        raise NotImplementedError\n",
    "\n",
    "    def fit(self, X, y, sample_weights=None):\n",
    "        raise NotImplementedError\n",
    "\n",
    "    def predict(self, X):\n",
    "        raise NotImplementedError\n",
    "\n",
    "    def evaluate_model(self, X, y):\n",
    "        raise NotImplementedError\n",
    "\n",
    "    def get_model_no_train(self):\n",
    "        raise NotImplementedError"
   ]
  },
  {
   "cell_type": "code",
   "execution_count": 77,
   "id": "ad3d6c61",
   "metadata": {},
   "outputs": [],
   "source": [
    "from sklearn.linear_model import LogisticRegression\n",
    "\n",
    "class LogisticRegressionModel(AbstractModel):\n",
    "    def __init__(self, params):\n",
    "        self.params = params\n",
    "        self.model = LogisticRegression(**params)\n",
    "\n",
    "    def fit(self, X_train, y_train, sample_weights=None):\n",
    "        self.model.fit(X_train, y_train, sample_weight=sample_weights)\n",
    "\n",
    "    def predict(self, X_test):\n",
    "        return self.model.predict(X_test)\n",
    "\n",
    "    def evaluate_model(self, X_test, y_test):\n",
    "        y_pred = self.model.predict(X_test)\n",
    "        return {\n",
    "            \"accuracy\": accuracy_score(y_test, y_pred),\n",
    "            \"f1_score\": f1_score(y_test, y_pred),\n",
    "        }\n",
    "\n",
    "    def get_model_no_train(self):\n",
    "        return LogisticRegressionModel(self.params)"
   ]
  },
  {
   "cell_type": "code",
   "execution_count": 78,
   "id": "b89bd33b",
   "metadata": {},
   "outputs": [],
   "source": [
    "parameters_dict_logist_reg = {\n",
    "    'C': [0.1, 1.0, 10.0],\n",
    "    'penalty': ['l1', 'l2', 'elasticnet', None]\n",
    "}"
   ]
  },
  {
   "cell_type": "markdown",
   "id": "461c4108",
   "metadata": {},
   "source": [
    "IPW weighing:<br>\n",
    "\n",
    "using propensity scores to reweight the samples so the models process the data as randomly assigned treatment data."
   ]
  },
  {
   "cell_type": "code",
   "execution_count": 79,
   "id": "d82b3ab2",
   "metadata": {},
   "outputs": [
    {
     "name": "stdout",
     "output_type": "stream",
     "text": [
      "Min class weight: 1.0243858731996884\n",
      "Max class weight: 21.04999664676299\n",
      "Mean class weight: 1.539552879699761\n",
      "Median class weight: 1.19104630544336\n"
     ]
    },
    {
     "data": {
      "image/png": "[encoded data removed]",
      "text/plain": [
       "<Figure size 640x480 with 1 Axes>"
      ]
     },
     "metadata": {},
     "output_type": "display_data"
    }
   ],
   "source": [
    "sample_weights = T_train_prop_trimmed**-1\n",
    "\n",
    "print(\"Min class weight:\", sample_weights.min())\n",
    "print(\"Max class weight:\", sample_weights.max())\n",
    "print(\"Mean class weight:\", sample_weights.mean())\n",
    "print(\"Median class weight:\", np.median(sample_weights))\n",
    "\n",
    "# plot distribution\n",
    "\n",
    "plt.hist(sample_weights, bins=30, alpha=0.7, density=True)\n",
    "plt.xlabel('Class Weights')\n",
    "plt.ylabel('Density')\n",
    "plt.title('Distribution of Class Weights for Inverse Propensity Weighting')\n",
    "plt.show()"
   ]
  },
  {
   "cell_type": "markdown",
   "id": "01ecbd43",
   "metadata": {},
   "source": [
    "class weighing:"
   ]
  },
  {
   "cell_type": "code",
   "execution_count": 80,
   "id": "ab2ae5ab",
   "metadata": {},
   "outputs": [],
   "source": [
    "class_weights_rand_forest = class_weights_logist_reg = {\n",
    "    1: 1 / np.mean(X_train_trimmed['T'] == 1),\n",
    "    0: 1 / np.mean(X_train_trimmed['T'] == 0)\n",
    "}"
   ]
  },
  {
   "cell_type": "code",
   "execution_count": 81,
   "id": "cd68e893",
   "metadata": {},
   "outputs": [],
   "source": [
    "results_dict_logist_reg = {(c, p): 0 for c in parameters_dict_logist_reg['C'] for p in parameters_dict_logist_reg['penalty']}"
   ]
  },
  {
   "cell_type": "code",
   "execution_count": 82,
   "id": "dbb5e6d4",
   "metadata": {},
   "outputs": [
    {
     "name": "stderr",
     "output_type": "stream",
     "text": [
      "c:\\Users\\Lenovo\\miniconda3\\Lib\\site-packages\\sklearn\\linear_model\\_sag.py:348: ConvergenceWarning: The max_iter was reached which means the coef_ did not converge\n",
      "  warnings.warn(\n"
     ]
    },
    {
     "name": "stdout",
     "output_type": "stream",
     "text": [
      "Model with C=0.1, penalty=l1 - Accuracy: 0.9058154932685941, F1 Score: 0.6798574643660915\n"
     ]
    },
    {
     "name": "stderr",
     "output_type": "stream",
     "text": [
      "c:\\Users\\Lenovo\\miniconda3\\Lib\\site-packages\\sklearn\\linear_model\\_logistic.py:473: ConvergenceWarning: lbfgs failed to converge after 100 iteration(s) (status=1):\n",
      "STOP: TOTAL NO. of ITERATIONS REACHED LIMIT\n",
      "\n",
      "Increase the number of iterations to improve the convergence (max_iter=100).\n",
      "You might also want to scale the data as shown in:\n",
      "    https://scikit-learn.org/stable/modules/preprocessing.html\n",
      "Please also refer to the documentation for alternative solver options:\n",
      "    https://scikit-learn.org/stable/modules/linear_model.html#logistic-regression\n",
      "  n_iter_i = _check_optimize_result(\n"
     ]
    },
    {
     "name": "stdout",
     "output_type": "stream",
     "text": [
      "Model with C=0.1, penalty=l2 - Accuracy: 0.9032774222026043, F1 Score: 0.669805989828593\n"
     ]
    },
    {
     "name": "stderr",
     "output_type": "stream",
     "text": [
      "c:\\Users\\Lenovo\\miniconda3\\Lib\\site-packages\\sklearn\\linear_model\\_sag.py:348: ConvergenceWarning: The max_iter was reached which means the coef_ did not converge\n",
      "  warnings.warn(\n",
      "c:\\Users\\Lenovo\\miniconda3\\Lib\\site-packages\\sklearn\\linear_model\\_logistic.py:1232: UserWarning: Setting penalty=None will ignore the C and l1_ratio parameters\n",
      "  warnings.warn(\n"
     ]
    },
    {
     "name": "stdout",
     "output_type": "stream",
     "text": [
      "Model with C=0.1, penalty=elasticnet - Accuracy: 0.9058154932685941, F1 Score: 0.6798574643660915\n"
     ]
    },
    {
     "name": "stderr",
     "output_type": "stream",
     "text": [
      "c:\\Users\\Lenovo\\miniconda3\\Lib\\site-packages\\sklearn\\linear_model\\_logistic.py:473: ConvergenceWarning: lbfgs failed to converge after 100 iteration(s) (status=1):\n",
      "STOP: TOTAL NO. of ITERATIONS REACHED LIMIT\n",
      "\n",
      "Increase the number of iterations to improve the convergence (max_iter=100).\n",
      "You might also want to scale the data as shown in:\n",
      "    https://scikit-learn.org/stable/modules/preprocessing.html\n",
      "Please also refer to the documentation for alternative solver options:\n",
      "    https://scikit-learn.org/stable/modules/linear_model.html#logistic-regression\n",
      "  n_iter_i = _check_optimize_result(\n"
     ]
    },
    {
     "name": "stdout",
     "output_type": "stream",
     "text": [
      "Model with C=0.1, penalty=None - Accuracy: 0.903222246744648, F1 Score: 0.669119034144501\n"
     ]
    },
    {
     "name": "stderr",
     "output_type": "stream",
     "text": [
      "c:\\Users\\Lenovo\\miniconda3\\Lib\\site-packages\\sklearn\\linear_model\\_sag.py:348: ConvergenceWarning: The max_iter was reached which means the coef_ did not converge\n",
      "  warnings.warn(\n"
     ]
    },
    {
     "name": "stdout",
     "output_type": "stream",
     "text": [
      "Model with C=1.0, penalty=l1 - Accuracy: 0.905787905539616, F1 Score: 0.6797336584450905\n"
     ]
    },
    {
     "name": "stderr",
     "output_type": "stream",
     "text": [
      "c:\\Users\\Lenovo\\miniconda3\\Lib\\site-packages\\sklearn\\linear_model\\_logistic.py:473: ConvergenceWarning: lbfgs failed to converge after 100 iteration(s) (status=1):\n",
      "STOP: TOTAL NO. of ITERATIONS REACHED LIMIT\n",
      "\n",
      "Increase the number of iterations to improve the convergence (max_iter=100).\n",
      "You might also want to scale the data as shown in:\n",
      "    https://scikit-learn.org/stable/modules/preprocessing.html\n",
      "Please also refer to the documentation for alternative solver options:\n",
      "    https://scikit-learn.org/stable/modules/linear_model.html#logistic-regression\n",
      "  n_iter_i = _check_optimize_result(\n"
     ]
    },
    {
     "name": "stdout",
     "output_type": "stream",
     "text": [
      "Model with C=1.0, penalty=l2 - Accuracy: 0.9036912381372766, F1 Score: 0.6713115525845024\n"
     ]
    },
    {
     "name": "stderr",
     "output_type": "stream",
     "text": [
      "c:\\Users\\Lenovo\\miniconda3\\Lib\\site-packages\\sklearn\\linear_model\\_sag.py:348: ConvergenceWarning: The max_iter was reached which means the coef_ did not converge\n",
      "  warnings.warn(\n"
     ]
    },
    {
     "name": "stdout",
     "output_type": "stream",
     "text": [
      "Model with C=1.0, penalty=elasticnet - Accuracy: 0.905787905539616, F1 Score: 0.6797336584450905\n"
     ]
    },
    {
     "name": "stderr",
     "output_type": "stream",
     "text": [
      "c:\\Users\\Lenovo\\miniconda3\\Lib\\site-packages\\sklearn\\linear_model\\_logistic.py:473: ConvergenceWarning: lbfgs failed to converge after 100 iteration(s) (status=1):\n",
      "STOP: TOTAL NO. of ITERATIONS REACHED LIMIT\n",
      "\n",
      "Increase the number of iterations to improve the convergence (max_iter=100).\n",
      "You might also want to scale the data as shown in:\n",
      "    https://scikit-learn.org/stable/modules/preprocessing.html\n",
      "Please also refer to the documentation for alternative solver options:\n",
      "    https://scikit-learn.org/stable/modules/linear_model.html#logistic-regression\n",
      "  n_iter_i = _check_optimize_result(\n"
     ]
    },
    {
     "name": "stdout",
     "output_type": "stream",
     "text": [
      "Model with C=1.0, penalty=None - Accuracy: 0.903222246744648, F1 Score: 0.669119034144501\n"
     ]
    },
    {
     "name": "stderr",
     "output_type": "stream",
     "text": [
      "c:\\Users\\Lenovo\\miniconda3\\Lib\\site-packages\\sklearn\\linear_model\\_sag.py:348: ConvergenceWarning: The max_iter was reached which means the coef_ did not converge\n",
      "  warnings.warn(\n"
     ]
    },
    {
     "name": "stdout",
     "output_type": "stream",
     "text": [
      "Model with C=10.0, penalty=l1 - Accuracy: 0.905787905539616, F1 Score: 0.6797336584450905\n"
     ]
    },
    {
     "name": "stderr",
     "output_type": "stream",
     "text": [
      "c:\\Users\\Lenovo\\miniconda3\\Lib\\site-packages\\sklearn\\linear_model\\_logistic.py:473: ConvergenceWarning: lbfgs failed to converge after 100 iteration(s) (status=1):\n",
      "STOP: TOTAL NO. of ITERATIONS REACHED LIMIT\n",
      "\n",
      "Increase the number of iterations to improve the convergence (max_iter=100).\n",
      "You might also want to scale the data as shown in:\n",
      "    https://scikit-learn.org/stable/modules/preprocessing.html\n",
      "Please also refer to the documentation for alternative solver options:\n",
      "    https://scikit-learn.org/stable/modules/linear_model.html#logistic-regression\n",
      "  n_iter_i = _check_optimize_result(\n"
     ]
    },
    {
     "name": "stdout",
     "output_type": "stream",
     "text": [
      "Model with C=10.0, penalty=l2 - Accuracy: 0.9039671154270581, F1 Score: 0.6729920150305307\n"
     ]
    },
    {
     "name": "stderr",
     "output_type": "stream",
     "text": [
      "c:\\Users\\Lenovo\\miniconda3\\Lib\\site-packages\\sklearn\\linear_model\\_sag.py:348: ConvergenceWarning: The max_iter was reached which means the coef_ did not converge\n",
      "  warnings.warn(\n",
      "c:\\Users\\Lenovo\\miniconda3\\Lib\\site-packages\\sklearn\\linear_model\\_logistic.py:1232: UserWarning: Setting penalty=None will ignore the C and l1_ratio parameters\n",
      "  warnings.warn(\n"
     ]
    },
    {
     "name": "stdout",
     "output_type": "stream",
     "text": [
      "Model with C=10.0, penalty=elasticnet - Accuracy: 0.905787905539616, F1 Score: 0.6797336584450905\n",
      "Model with C=10.0, penalty=None - Accuracy: 0.903222246744648, F1 Score: 0.669119034144501\n"
     ]
    },
    {
     "name": "stderr",
     "output_type": "stream",
     "text": [
      "c:\\Users\\Lenovo\\miniconda3\\Lib\\site-packages\\sklearn\\linear_model\\_logistic.py:473: ConvergenceWarning: lbfgs failed to converge after 100 iteration(s) (status=1):\n",
      "STOP: TOTAL NO. of ITERATIONS REACHED LIMIT\n",
      "\n",
      "Increase the number of iterations to improve the convergence (max_iter=100).\n",
      "You might also want to scale the data as shown in:\n",
      "    https://scikit-learn.org/stable/modules/preprocessing.html\n",
      "Please also refer to the documentation for alternative solver options:\n",
      "    https://scikit-learn.org/stable/modules/linear_model.html#logistic-regression\n",
      "  n_iter_i = _check_optimize_result(\n"
     ]
    }
   ],
   "source": [
    "best_model_logist_reg = None\n",
    "best_f1_score_logist_reg = 0\n",
    "\n",
    "for c in parameters_dict_logist_reg['C']:\n",
    "    for p in parameters_dict_logist_reg['penalty']:\n",
    "        key = (c, p)\n",
    "        \n",
    "        # Set up parameters for the model\n",
    "        model_params = {\n",
    "            'C': c, \n",
    "            'penalty': p, \n",
    "            'max_iter': 100, \n",
    "            'class_weight': class_weights_logist_reg,\n",
    "            'solver': 'saga' if p in ['l1', 'elasticnet'] else 'lbfgs',\n",
    "            'random_state': RANDOM_SEED\n",
    "        }\n",
    "        \n",
    "        # Add l1_ratio for elasticnet penalty\n",
    "        if p == 'elasticnet':\n",
    "            model_params['l1_ratio'] = 0.5  # Equal mix of L1 and L2\n",
    "            \n",
    "        logist_reg_model = LogisticRegressionModel(model_params)\n",
    "        logist_reg_model.fit(X_train_trimmed, y_train_trimmed, sample_weights=sample_weights)\n",
    "        results_dict_logist_reg = logist_reg_model.evaluate_model(X_val_trimmed, y_val_trimmed)\n",
    "        print(f\"Model with C={c}, penalty={p} - Accuracy: {results_dict_logist_reg['accuracy']}, F1 Score: {results_dict_logist_reg['f1_score']}\")\n",
    "\n",
    "        # Check if this model is the best one so far\n",
    "        if results_dict_logist_reg['f1_score'] > best_f1_score_logist_reg:\n",
    "            best_f1_score_logist_reg = results_dict_logist_reg['f1_score']\n",
    "            best_model_logist_reg = logist_reg_model\n",
    "            best_f1_score = results_dict_logist_reg['f1_score']\n",
    "            best_model = logist_reg_model"
   ]
  },
  {
   "cell_type": "markdown",
   "id": "c2ea158a",
   "metadata": {},
   "source": [
    "Getting ATE:"
   ]
  },
  {
   "cell_type": "code",
   "execution_count": 83,
   "id": "8065cbdc",
   "metadata": {},
   "outputs": [],
   "source": [
    "def prepare_data_for_s_learner_inference(X):\n",
    "    \"\"\"\n",
    "    Receives X, data, and returns two sets of data. One with T=1 and the other with T=0.\n",
    "    For example, if the X = [x1, x_2] then this function returns X1 = [x1, x2, 1] and X0 = [x1, x2, 0]\n",
    "    \n",
    "    You must return two datasets, one for T=1 and one for T=0.\n",
    "    :param X: \n",
    "    :return: \n",
    "    \"\"\"\n",
    "    X1 = X.copy()\n",
    "    X0 = X.copy()\n",
    "    X1['T'] = 1\n",
    "    X0['T'] = 0\n",
    "    return X1, X0\n",
    "\n",
    "def calculate_s_learner_ate(s_learner_model, X):\n",
    "    \"\"\"\n",
    "    Receives an s learner model and data\n",
    "    \n",
    "    You must return or print the ate estimation on X based on the S-Learner.\n",
    "    :param s_learner: \n",
    "    :param X: \n",
    "    :return: \n",
    "    \"\"\"\n",
    "    \n",
    "    X1, X0 = prepare_data_for_s_learner_inference(X)\n",
    "    ate = s_learner_model.predict(X1).mean() - s_learner_model.predict(X0).mean()\n",
    "    return ate"
   ]
  },
  {
   "cell_type": "code",
   "execution_count": 84,
   "id": "c3be617a",
   "metadata": {},
   "outputs": [
    {
     "data": {
      "text/html": [
       "<div>\n",
       "<style scoped>\n",
       "    .dataframe tbody tr th:only-of-type {\n",
       "        vertical-align: middle;\n",
       "    }\n",
       "\n",
       "    .dataframe tbody tr th {\n",
       "        vertical-align: top;\n",
       "    }\n",
       "\n",
       "    .dataframe thead th {\n",
       "        text-align: right;\n",
       "    }\n",
       "</style>\n",
       "<table border=\"1\" class=\"dataframe\">\n",
       "  <thead>\n",
       "    <tr style=\"text-align: right;\">\n",
       "      <th></th>\n",
       "      <th>FAGECOMB</th>\n",
       "      <th>RF_PDIAB</th>\n",
       "      <th>RF_GDIAB</th>\n",
       "      <th>RF_PHYPE</th>\n",
       "      <th>RF_GHYPE</th>\n",
       "      <th>RF_EHYPE</th>\n",
       "      <th>RF_PPB</th>\n",
       "      <th>RF_INFT</th>\n",
       "      <th>RF_DRG</th>\n",
       "      <th>RF_ART</th>\n",
       "      <th>...</th>\n",
       "      <th>DPLURAL_4</th>\n",
       "      <th>DPLURAL_5</th>\n",
       "      <th>SETORDER_R_</th>\n",
       "      <th>SETORDER_R_1</th>\n",
       "      <th>SETORDER_R_2</th>\n",
       "      <th>SETORDER_R_3</th>\n",
       "      <th>SETORDER_R_4</th>\n",
       "      <th>SETORDER_R_5</th>\n",
       "      <th>SETORDER_R_9</th>\n",
       "      <th>T</th>\n",
       "    </tr>\n",
       "  </thead>\n",
       "  <tbody>\n",
       "    <tr>\n",
       "      <th>5234</th>\n",
       "      <td>31.312562</td>\n",
       "      <td>0.0</td>\n",
       "      <td>0.0</td>\n",
       "      <td>0.0</td>\n",
       "      <td>0.0</td>\n",
       "      <td>0.0</td>\n",
       "      <td>0.0</td>\n",
       "      <td>0.0</td>\n",
       "      <td>0.0</td>\n",
       "      <td>1.0</td>\n",
       "      <td>...</td>\n",
       "      <td>0</td>\n",
       "      <td>0</td>\n",
       "      <td>0</td>\n",
       "      <td>0</td>\n",
       "      <td>1</td>\n",
       "      <td>0</td>\n",
       "      <td>0</td>\n",
       "      <td>0</td>\n",
       "      <td>0</td>\n",
       "      <td>0.0</td>\n",
       "    </tr>\n",
       "    <tr>\n",
       "      <th>115412</th>\n",
       "      <td>33.000000</td>\n",
       "      <td>0.0</td>\n",
       "      <td>0.0</td>\n",
       "      <td>0.0</td>\n",
       "      <td>0.0</td>\n",
       "      <td>0.0</td>\n",
       "      <td>0.0</td>\n",
       "      <td>0.0</td>\n",
       "      <td>0.0</td>\n",
       "      <td>1.0</td>\n",
       "      <td>...</td>\n",
       "      <td>0</td>\n",
       "      <td>0</td>\n",
       "      <td>0</td>\n",
       "      <td>0</td>\n",
       "      <td>0</td>\n",
       "      <td>0</td>\n",
       "      <td>0</td>\n",
       "      <td>0</td>\n",
       "      <td>1</td>\n",
       "      <td>1.0</td>\n",
       "    </tr>\n",
       "    <tr>\n",
       "      <th>111103</th>\n",
       "      <td>29.000000</td>\n",
       "      <td>0.0</td>\n",
       "      <td>0.0</td>\n",
       "      <td>0.0</td>\n",
       "      <td>0.0</td>\n",
       "      <td>0.0</td>\n",
       "      <td>0.0</td>\n",
       "      <td>0.0</td>\n",
       "      <td>0.0</td>\n",
       "      <td>1.0</td>\n",
       "      <td>...</td>\n",
       "      <td>0</td>\n",
       "      <td>0</td>\n",
       "      <td>0</td>\n",
       "      <td>0</td>\n",
       "      <td>0</td>\n",
       "      <td>0</td>\n",
       "      <td>0</td>\n",
       "      <td>0</td>\n",
       "      <td>1</td>\n",
       "      <td>0.0</td>\n",
       "    </tr>\n",
       "  </tbody>\n",
       "</table>\n",
       "<p>3 rows × 242 columns</p>\n",
       "</div>"
      ],
      "text/plain": [
       "         FAGECOMB  RF_PDIAB  RF_GDIAB  RF_PHYPE  RF_GHYPE  RF_EHYPE  RF_PPB  \\\n",
       "5234    31.312562       0.0       0.0       0.0       0.0       0.0     0.0   \n",
       "115412  33.000000       0.0       0.0       0.0       0.0       0.0     0.0   \n",
       "111103  29.000000       0.0       0.0       0.0       0.0       0.0     0.0   \n",
       "\n",
       "        RF_INFT  RF_DRG  RF_ART  ...  DPLURAL_4  DPLURAL_5  SETORDER_R_   \\\n",
       "5234        0.0     0.0     1.0  ...          0          0             0   \n",
       "115412      0.0     0.0     1.0  ...          0          0             0   \n",
       "111103      0.0     0.0     1.0  ...          0          0             0   \n",
       "\n",
       "        SETORDER_R_1  SETORDER_R_2  SETORDER_R_3  SETORDER_R_4  SETORDER_R_5  \\\n",
       "5234               0             1             0             0             0   \n",
       "115412             0             0             0             0             0   \n",
       "111103             0             0             0             0             0   \n",
       "\n",
       "        SETORDER_R_9    T  \n",
       "5234               0  0.0  \n",
       "115412             1  1.0  \n",
       "111103             1  0.0  \n",
       "\n",
       "[3 rows x 242 columns]"
      ]
     },
     "metadata": {},
     "output_type": "display_data"
    },
    {
     "name": "stdout",
     "output_type": "stream",
     "text": [
      "(120736, 242)\n"
     ]
    }
   ],
   "source": [
    "X_inference_trimmed = pd.concat([X_train_trimmed, X_val_trimmed], axis = 0)\n",
    "y_inference_trimmed = pd.concat([y_train_trimmed, y_val_trimmed], axis = 0)\n",
    "\n",
    "display(X_inference_trimmed.head(3))\n",
    "print(X_inference_trimmed.shape)"
   ]
  },
  {
   "cell_type": "code",
   "execution_count": 85,
   "id": "187987ce",
   "metadata": {},
   "outputs": [
    {
     "name": "stdout",
     "output_type": "stream",
     "text": [
      "Estimated ATE: -0.009640869334746893\n"
     ]
    }
   ],
   "source": [
    "print(f\"Estimated ATE: {calculate_s_learner_ate(best_model_logist_reg, X_inference_trimmed)}\")"
   ]
  },
  {
   "cell_type": "markdown",
   "id": "6327fcbd",
   "metadata": {},
   "source": [
    "### Random Forest"
   ]
  },
  {
   "cell_type": "code",
   "execution_count": 86,
   "id": "847555f8",
   "metadata": {},
   "outputs": [],
   "source": [
    "from sklearn.ensemble import RandomForestClassifier\n",
    "\n",
    "class RandomForestModel(AbstractModel):\n",
    "    def __init__(self, params):\n",
    "        self.params = params\n",
    "        self.model = RandomForestClassifier(**params)\n",
    "\n",
    "    def fit(self, X, y, sample_weights=None):\n",
    "        self.model.fit(X, y, sample_weight=sample_weights)\n",
    "\n",
    "    def predict(self, X):\n",
    "        return self.model.predict(X)\n",
    "\n",
    "    def evaluate_model(self, X, y):\n",
    "        preds = self.model.predict(X)\n",
    "        return {\n",
    "            'accuracy_score' : accuracy_score(y, preds),\n",
    "            'f1_score' : f1_score(y, preds)\n",
    "        }\n",
    "\n",
    "    def get_model_no_train(self):\n",
    "        return RandomForestModel(self.params)"
   ]
  },
  {
   "cell_type": "code",
   "execution_count": 87,
   "id": "d397b39e",
   "metadata": {},
   "outputs": [],
   "source": [
    "parameters_dict_rand_forest = {\n",
    "    'n_estimators': [50, 100],\n",
    "    'max_depth': [None, 12, 13, 14],\n",
    "    'min_weight_fraction_leaf': [0.0, 0.05, 0.1],\n",
    "    'criterion': ['gini', 'entropy', 'log_loss'],\n",
    "}"
   ]
  },
  {
   "cell_type": "code",
   "execution_count": 88,
   "id": "05171e9e",
   "metadata": {},
   "outputs": [
    {
     "data": {
      "image/png": "[encoded data removed]",
      "text/plain": [
       "<Figure size 1000x600 with 1 Axes>"
      ]
     },
     "metadata": {},
     "output_type": "display_data"
    }
   ],
   "source": [
    "sample_weights_rand_forest = (T_train_prop_trimmed**-1)/(T_train_prop_trimmed**-1).sum()\n",
    "\n",
    "# plot sample weights distribution\n",
    "import matplotlib.pyplot as plt\n",
    "plt.figure(figsize=(10, 6))\n",
    "plt.hist(sample_weights_rand_forest, bins=30, alpha=0.7)\n",
    "plt.title('Sample Weights Distribution - Random Forest')\n",
    "plt.xlabel('Sample Weight')\n",
    "plt.ylabel('Frequency')\n",
    "plt.grid()\n",
    "plt.show()"
   ]
  },
  {
   "cell_type": "code",
   "execution_count": 89,
   "id": "a99b263b",
   "metadata": {},
   "outputs": [],
   "source": [
    "results_dict_rand_forest = {(ne, md, mwfl, cr): 0 for ne in parameters_dict_rand_forest['n_estimators'] for md in parameters_dict_rand_forest['max_depth'] for mwfl in parameters_dict_rand_forest['min_weight_fraction_leaf'] for cr in parameters_dict_rand_forest['criterion']}"
   ]
  },
  {
   "cell_type": "code",
   "execution_count": 90,
   "id": "3085a94a",
   "metadata": {},
   "outputs": [
    {
     "name": "stdout",
     "output_type": "stream",
     "text": [
      "Model with n_estimators=50, max_depth=None, min_weight_fraction_leaf=0.0, criterion=gini - Accuracy: 0.919719708673582, F1 Score: 0.7525930964121748\n",
      "Model with n_estimators=50, max_depth=None, min_weight_fraction_leaf=0.0, criterion=entropy - Accuracy: 0.9186989627013904, F1 Score: 0.7483562462641961\n",
      "Model with n_estimators=50, max_depth=None, min_weight_fraction_leaf=0.0, criterion=log_loss - Accuracy: 0.9186989627013904, F1 Score: 0.7483562462641961\n",
      "Model with n_estimators=50, max_depth=None, min_weight_fraction_leaf=0.05, criterion=gini - Accuracy: 0.8772070183182521, F1 Score: 0.5243133482953938\n",
      "Model with n_estimators=50, max_depth=None, min_weight_fraction_leaf=0.05, criterion=entropy - Accuracy: 0.8776760097108806, F1 Score: 0.527191298784389\n",
      "Model with n_estimators=50, max_depth=None, min_weight_fraction_leaf=0.05, criterion=log_loss - Accuracy: 0.8776760097108806, F1 Score: 0.527191298784389\n",
      "Model with n_estimators=50, max_depth=None, min_weight_fraction_leaf=0.1, criterion=gini - Accuracy: 0.8548057823879939, F1 Score: 0.3830734966592428\n",
      "Model with n_estimators=50, max_depth=None, min_weight_fraction_leaf=0.1, criterion=entropy - Accuracy: 0.8540057382476275, F1 Score: 0.37741176470588234\n",
      "Model with n_estimators=50, max_depth=None, min_weight_fraction_leaf=0.1, criterion=log_loss - Accuracy: 0.8540057382476275, F1 Score: 0.37741176470588234\n",
      "Model with n_estimators=50, max_depth=12, min_weight_fraction_leaf=0.0, criterion=gini - Accuracy: 0.9133469432796292, F1 Score: 0.7139083705255488\n",
      "Model with n_estimators=50, max_depth=12, min_weight_fraction_leaf=0.0, criterion=entropy - Accuracy: 0.9133745310086073, F1 Score: 0.7137648131267093\n",
      "Model with n_estimators=50, max_depth=12, min_weight_fraction_leaf=0.0, criterion=log_loss - Accuracy: 0.9133745310086073, F1 Score: 0.7137648131267093\n",
      "Model with n_estimators=50, max_depth=12, min_weight_fraction_leaf=0.05, criterion=gini - Accuracy: 0.8772070183182521, F1 Score: 0.5243133482953938\n",
      "Model with n_estimators=50, max_depth=12, min_weight_fraction_leaf=0.05, criterion=entropy - Accuracy: 0.8776760097108806, F1 Score: 0.527191298784389\n",
      "Model with n_estimators=50, max_depth=12, min_weight_fraction_leaf=0.05, criterion=log_loss - Accuracy: 0.8776760097108806, F1 Score: 0.527191298784389\n",
      "Model with n_estimators=50, max_depth=12, min_weight_fraction_leaf=0.1, criterion=gini - Accuracy: 0.8548057823879939, F1 Score: 0.3830734966592428\n",
      "Model with n_estimators=50, max_depth=12, min_weight_fraction_leaf=0.1, criterion=entropy - Accuracy: 0.8540057382476275, F1 Score: 0.37741176470588234\n",
      "Model with n_estimators=50, max_depth=12, min_weight_fraction_leaf=0.1, criterion=log_loss - Accuracy: 0.8540057382476275, F1 Score: 0.37741176470588234\n",
      "Model with n_estimators=50, max_depth=13, min_weight_fraction_leaf=0.0, criterion=gini - Accuracy: 0.9148090929154712, F1 Score: 0.7207451618737566\n",
      "Model with n_estimators=50, max_depth=13, min_weight_fraction_leaf=0.0, criterion=entropy - Accuracy: 0.9134572941955418, F1 Score: 0.7149995457436177\n",
      "Model with n_estimators=50, max_depth=13, min_weight_fraction_leaf=0.0, criterion=log_loss - Accuracy: 0.9134572941955418, F1 Score: 0.7149995457436177\n",
      "Model with n_estimators=50, max_depth=13, min_weight_fraction_leaf=0.05, criterion=gini - Accuracy: 0.8772070183182521, F1 Score: 0.5243133482953938\n",
      "Model with n_estimators=50, max_depth=13, min_weight_fraction_leaf=0.05, criterion=entropy - Accuracy: 0.8776760097108806, F1 Score: 0.527191298784389\n",
      "Model with n_estimators=50, max_depth=13, min_weight_fraction_leaf=0.05, criterion=log_loss - Accuracy: 0.8776760097108806, F1 Score: 0.527191298784389\n",
      "Model with n_estimators=50, max_depth=13, min_weight_fraction_leaf=0.1, criterion=gini - Accuracy: 0.8548057823879939, F1 Score: 0.3830734966592428\n",
      "Model with n_estimators=50, max_depth=13, min_weight_fraction_leaf=0.1, criterion=entropy - Accuracy: 0.8540057382476275, F1 Score: 0.37741176470588234\n",
      "Model with n_estimators=50, max_depth=13, min_weight_fraction_leaf=0.1, criterion=log_loss - Accuracy: 0.8540057382476275, F1 Score: 0.37741176470588234\n",
      "Model with n_estimators=50, max_depth=14, min_weight_fraction_leaf=0.0, criterion=gini - Accuracy: 0.9150297947472964, F1 Score: 0.7226724293174861\n",
      "Model with n_estimators=50, max_depth=14, min_weight_fraction_leaf=0.0, criterion=entropy - Accuracy: 0.9145608033546678, F1 Score: 0.7209155627647111\n",
      "Model with n_estimators=50, max_depth=14, min_weight_fraction_leaf=0.0, criterion=log_loss - Accuracy: 0.9145608033546678, F1 Score: 0.7209155627647111\n",
      "Model with n_estimators=50, max_depth=14, min_weight_fraction_leaf=0.05, criterion=gini - Accuracy: 0.8772070183182521, F1 Score: 0.5243133482953938\n",
      "Model with n_estimators=50, max_depth=14, min_weight_fraction_leaf=0.05, criterion=entropy - Accuracy: 0.8776760097108806, F1 Score: 0.527191298784389\n",
      "Model with n_estimators=50, max_depth=14, min_weight_fraction_leaf=0.05, criterion=log_loss - Accuracy: 0.8776760097108806, F1 Score: 0.527191298784389\n",
      "Model with n_estimators=50, max_depth=14, min_weight_fraction_leaf=0.1, criterion=gini - Accuracy: 0.8548057823879939, F1 Score: 0.3830734966592428\n",
      "Model with n_estimators=50, max_depth=14, min_weight_fraction_leaf=0.1, criterion=entropy - Accuracy: 0.8540057382476275, F1 Score: 0.37741176470588234\n",
      "Model with n_estimators=50, max_depth=14, min_weight_fraction_leaf=0.1, criterion=log_loss - Accuracy: 0.8540057382476275, F1 Score: 0.37741176470588234\n",
      "Model with n_estimators=100, max_depth=None, min_weight_fraction_leaf=0.0, criterion=gini - Accuracy: 0.9202990509821232, F1 Score: 0.7545245985215396\n",
      "Model with n_estimators=100, max_depth=None, min_weight_fraction_leaf=0.0, criterion=entropy - Accuracy: 0.9186989627013904, F1 Score: 0.7480119709277468\n",
      "Model with n_estimators=100, max_depth=None, min_weight_fraction_leaf=0.0, criterion=log_loss - Accuracy: 0.9186989627013904, F1 Score: 0.7480119709277468\n",
      "Model with n_estimators=100, max_depth=None, min_weight_fraction_leaf=0.05, criterion=gini - Accuracy: 0.8760483337011697, F1 Score: 0.5175561043702351\n",
      "Model with n_estimators=100, max_depth=None, min_weight_fraction_leaf=0.05, criterion=entropy - Accuracy: 0.8767104391966454, F1 Score: 0.5213666059762236\n",
      "Model with n_estimators=100, max_depth=None, min_weight_fraction_leaf=0.05, criterion=log_loss - Accuracy: 0.8767104391966454, F1 Score: 0.5213666059762236\n",
      "Model with n_estimators=100, max_depth=None, min_weight_fraction_leaf=0.1, criterion=gini - Accuracy: 0.8146656367247849, F1 Score: 0.04329250925662204\n",
      "Model with n_estimators=100, max_depth=None, min_weight_fraction_leaf=0.1, criterion=entropy - Accuracy: 0.8154932685941293, F1 Score: 0.05134751773049646\n",
      "Model with n_estimators=100, max_depth=None, min_weight_fraction_leaf=0.1, criterion=log_loss - Accuracy: 0.8154932685941293, F1 Score: 0.05134751773049646\n",
      "Model with n_estimators=100, max_depth=12, min_weight_fraction_leaf=0.0, criterion=gini - Accuracy: 0.9137055837563451, F1 Score: 0.7153258099745177\n",
      "Model with n_estimators=100, max_depth=12, min_weight_fraction_leaf=0.0, criterion=entropy - Accuracy: 0.9138986978591922, F1 Score: 0.7160920585827345\n",
      "Model with n_estimators=100, max_depth=12, min_weight_fraction_leaf=0.0, criterion=log_loss - Accuracy: 0.9138986978591922, F1 Score: 0.7160920585827345\n",
      "Model with n_estimators=100, max_depth=12, min_weight_fraction_leaf=0.05, criterion=gini - Accuracy: 0.8760483337011697, F1 Score: 0.5175561043702351\n",
      "Model with n_estimators=100, max_depth=12, min_weight_fraction_leaf=0.05, criterion=entropy - Accuracy: 0.8767104391966454, F1 Score: 0.5213666059762236\n",
      "Model with n_estimators=100, max_depth=12, min_weight_fraction_leaf=0.05, criterion=log_loss - Accuracy: 0.8767104391966454, F1 Score: 0.5213666059762236\n",
      "Model with n_estimators=100, max_depth=12, min_weight_fraction_leaf=0.1, criterion=gini - Accuracy: 0.8146656367247849, F1 Score: 0.04329250925662204\n",
      "Model with n_estimators=100, max_depth=12, min_weight_fraction_leaf=0.1, criterion=entropy - Accuracy: 0.8154932685941293, F1 Score: 0.05134751773049646\n",
      "Model with n_estimators=100, max_depth=12, min_weight_fraction_leaf=0.1, criterion=log_loss - Accuracy: 0.8154932685941293, F1 Score: 0.05134751773049646\n",
      "Model with n_estimators=100, max_depth=13, min_weight_fraction_leaf=0.0, criterion=gini - Accuracy: 0.9142021628779519, F1 Score: 0.7183991307497284\n",
      "Model with n_estimators=100, max_depth=13, min_weight_fraction_leaf=0.0, criterion=entropy - Accuracy: 0.913677996027367, F1 Score: 0.7157263559553012\n",
      "Model with n_estimators=100, max_depth=13, min_weight_fraction_leaf=0.0, criterion=log_loss - Accuracy: 0.913677996027367, F1 Score: 0.7157263559553012\n",
      "Model with n_estimators=100, max_depth=13, min_weight_fraction_leaf=0.05, criterion=gini - Accuracy: 0.8760483337011697, F1 Score: 0.5175561043702351\n",
      "Model with n_estimators=100, max_depth=13, min_weight_fraction_leaf=0.05, criterion=entropy - Accuracy: 0.8767104391966454, F1 Score: 0.5213666059762236\n",
      "Model with n_estimators=100, max_depth=13, min_weight_fraction_leaf=0.05, criterion=log_loss - Accuracy: 0.8767104391966454, F1 Score: 0.5213666059762236\n",
      "Model with n_estimators=100, max_depth=13, min_weight_fraction_leaf=0.1, criterion=gini - Accuracy: 0.8146656367247849, F1 Score: 0.04329250925662204\n",
      "Model with n_estimators=100, max_depth=13, min_weight_fraction_leaf=0.1, criterion=entropy - Accuracy: 0.8154932685941293, F1 Score: 0.05134751773049646\n",
      "Model with n_estimators=100, max_depth=13, min_weight_fraction_leaf=0.1, criterion=log_loss - Accuracy: 0.8154932685941293, F1 Score: 0.05134751773049646\n",
      "Model with n_estimators=100, max_depth=14, min_weight_fraction_leaf=0.0, criterion=gini - Accuracy: 0.9151125579342309, F1 Score: 0.7231170700980833\n",
      "Model with n_estimators=100, max_depth=14, min_weight_fraction_leaf=0.0, criterion=entropy - Accuracy: 0.9150022070183182, F1 Score: 0.722457436267003\n",
      "Model with n_estimators=100, max_depth=14, min_weight_fraction_leaf=0.0, criterion=log_loss - Accuracy: 0.9150022070183182, F1 Score: 0.722457436267003\n",
      "Model with n_estimators=100, max_depth=14, min_weight_fraction_leaf=0.05, criterion=gini - Accuracy: 0.8760483337011697, F1 Score: 0.5175561043702351\n",
      "Model with n_estimators=100, max_depth=14, min_weight_fraction_leaf=0.05, criterion=entropy - Accuracy: 0.8767104391966454, F1 Score: 0.5213666059762236\n",
      "Model with n_estimators=100, max_depth=14, min_weight_fraction_leaf=0.05, criterion=log_loss - Accuracy: 0.8767104391966454, F1 Score: 0.5213666059762236\n",
      "Model with n_estimators=100, max_depth=14, min_weight_fraction_leaf=0.1, criterion=gini - Accuracy: 0.8146656367247849, F1 Score: 0.04329250925662204\n",
      "Model with n_estimators=100, max_depth=14, min_weight_fraction_leaf=0.1, criterion=entropy - Accuracy: 0.8154932685941293, F1 Score: 0.05134751773049646\n",
      "Model with n_estimators=100, max_depth=14, min_weight_fraction_leaf=0.1, criterion=log_loss - Accuracy: 0.8154932685941293, F1 Score: 0.05134751773049646\n"
     ]
    }
   ],
   "source": [
    "best_model_rand_forest = None\n",
    "best_f1_score_rand_forest = 0\n",
    "\n",
    "for ne in parameters_dict_rand_forest['n_estimators']:\n",
    "    for md in parameters_dict_rand_forest['max_depth']:\n",
    "        for mwfl in parameters_dict_rand_forest['min_weight_fraction_leaf']:\n",
    "            for cr in parameters_dict_rand_forest['criterion']:\n",
    "                key = (ne, md, mwfl, cr)\n",
    "\n",
    "                model_params_rand_forest = {\n",
    "                    'n_estimators': ne,\n",
    "                    'max_depth': md,\n",
    "                    'min_weight_fraction_leaf': mwfl,\n",
    "                    'criterion': cr,\n",
    "                    'class_weight': class_weights_rand_forest,\n",
    "                    'random_state': RANDOM_SEED\n",
    "                }\n",
    "                rand_forest_model = RandomForestModel(model_params_rand_forest)\n",
    "                rand_forest_model.fit(X_train_trimmed, y_train_trimmed, sample_weights=sample_weights_rand_forest)\n",
    "\n",
    "                results_dict_rand_forest = rand_forest_model.evaluate_model(X_val_trimmed, y_val_trimmed)\n",
    "\n",
    "                print(f\"Model with n_estimators={ne}, max_depth={md}, min_weight_fraction_leaf={mwfl}, criterion={cr} - Accuracy: {results_dict_rand_forest['accuracy_score']}, F1 Score: {results_dict_rand_forest['f1_score']}\")\n",
    "\n",
    "                if results_dict_rand_forest['f1_score'] > best_f1_score_rand_forest:\n",
    "                    best_f1_score_rand_forest = results_dict_rand_forest['f1_score']\n",
    "                    best_model_rand_forest = rand_forest_model"
   ]
  },
  {
   "cell_type": "markdown",
   "id": "54096d87",
   "metadata": {},
   "source": [
    "Getting ATE:"
   ]
  },
  {
   "cell_type": "code",
   "execution_count": 91,
   "id": "9b1ee03d",
   "metadata": {},
   "outputs": [
    {
     "name": "stdout",
     "output_type": "stream",
     "text": [
      "Estimated ATE: 0.006253313013517087\n"
     ]
    }
   ],
   "source": [
    "print(f\"Estimated ATE: {calculate_s_learner_ate(best_model_rand_forest, X_inference_trimmed)}\")"
   ]
  },
  {
   "cell_type": "markdown",
   "id": "b7256e51",
   "metadata": {},
   "source": [
    "### Neural Network"
   ]
  },
  {
   "cell_type": "code",
   "execution_count": 92,
   "id": "b45fc0a7",
   "metadata": {},
   "outputs": [],
   "source": [
    "import torch\n",
    "from torch import nn\n",
    "\n",
    "class NeuralNetworkModel(nn.Module, AbstractModel):\n",
    "    def __init__(self, input_dim, output_dim, hidden_dim):\n",
    "        super(NeuralNetworkModel, self).__init__()\n",
    "        # set random seed for reproducibility\n",
    "        torch.manual_seed(RANDOM_SEED)\n",
    "        numpy.random.seed(RANDOM_SEED)\n",
    "        \n",
    "        self.input_dim = input_dim\n",
    "        self.output_dim = output_dim\n",
    "        self.hidden_dim = hidden_dim\n",
    "        self.fc1 = nn.Linear(input_dim, hidden_dim)\n",
    "        self.fc2 = nn.Linear(hidden_dim, hidden_dim // 2)\n",
    "        self.fc3 = nn.Linear(hidden_dim // 2, output_dim)\n",
    "        self.relu = nn.ReLU()\n",
    "        self.dropout = nn.Dropout(0.2)\n",
    "\n",
    "    def forward(self, x):\n",
    "        x = self.fc1(x)\n",
    "        x = self.relu(x)\n",
    "        x = self.dropout(x)\n",
    "        x = self.fc2(x)\n",
    "        x = self.relu(x)\n",
    "        x = self.dropout(x)\n",
    "        x = self.fc3(x)\n",
    "        return x\n",
    "\n",
    "    def fit(self, X, y, epochs=100, batch_size=32, sample_weights=None):\n",
    "        X = torch.tensor(X.to_numpy(), dtype=torch.float32)\n",
    "        y = torch.tensor(y.to_numpy(), dtype=torch.float32)\n",
    "        self.train()\n",
    "        optimizer = torch.optim.Adam(self.parameters(), lr=0.001)\n",
    "        criterion = nn.BCEWithLogitsLoss(reduction='none')\n",
    "\n",
    "        for epoch in range(epochs):\n",
    "            for i in range(0, X.size(0), batch_size):\n",
    "                X_batch = X[i:i + batch_size]\n",
    "                y_batch = y[i:i + batch_size]\n",
    "                if sample_weights is not None:\n",
    "                    sample_weights_batch = sample_weights[i:i + batch_size]\n",
    "                else:\n",
    "                    sample_weights_batch = None\n",
    "\n",
    "                optimizer.zero_grad()\n",
    "                logits = self(X_batch).reshape(-1)\n",
    "                loss = criterion(logits, y_batch)\n",
    "                if sample_weights_batch is not None:\n",
    "                    loss = loss * sample_weights_batch\n",
    "                loss = loss.mean()\n",
    "                loss.backward()\n",
    "                optimizer.step()\n",
    "\n",
    "    def predict(self, X):\n",
    "        self.eval()\n",
    "        X = torch.tensor(X.to_numpy(), dtype=torch.float32)\n",
    "        with torch.no_grad():\n",
    "            logits = self(X)\n",
    "            probs = torch.sigmoid(logits)\n",
    "            return np.array((probs > 0.5).float().reshape(-1), dtype=int)\n",
    "\n",
    "    def evaluate_model(self, X, y):\n",
    "        y = y.to_numpy() \n",
    "        preds = self.predict(X)\n",
    "        return {\n",
    "            'accuracy_score' : accuracy_score(y, preds),\n",
    "            'f1_score' : f1_score(y, preds)\n",
    "        }\n",
    "    \n",
    "    def get_model_no_train(self, input_dim = None, output_dim = None):\n",
    "\n",
    "        if input_dim is None:\n",
    "            input_dim = self.input_dim\n",
    "        if output_dim is None:\n",
    "            output_dim = self.output_dim\n",
    "\n",
    "        return NeuralNetworkModel(input_dim, output_dim, self.hidden_dim)\n"
   ]
  },
  {
   "cell_type": "code",
   "execution_count": 93,
   "id": "1692593c",
   "metadata": {},
   "outputs": [],
   "source": [
    "sample_weights_nn = (T_train_prop_trimmed**-1)/(T_train_prop_trimmed**-1).sum()\n",
    "sample_weights_nn = torch.tensor(sample_weights_nn, dtype=torch.float32)"
   ]
  },
  {
   "cell_type": "code",
   "execution_count": 94,
   "id": "364f8fa5",
   "metadata": {},
   "outputs": [],
   "source": [
    "parameters_dict_nn = {\n",
    "    'hidden_dim': [128]#, 64, 32]\n",
    "}"
   ]
  },
  {
   "cell_type": "code",
   "execution_count": 95,
   "id": "28fb3cd6",
   "metadata": {},
   "outputs": [],
   "source": [
    "results_dict_nn = {hd: 0 for hd in parameters_dict_nn['hidden_dim']}"
   ]
  },
  {
   "cell_type": "code",
   "execution_count": 96,
   "id": "5669bdcd",
   "metadata": {},
   "outputs": [
    {
     "name": "stdout",
     "output_type": "stream",
     "text": [
      "Results for hidden_dim=128: {'accuracy_score': 0.9217612006179652, 'f1_score': 0.7633116341178434}\n"
     ]
    }
   ],
   "source": [
    "best_model_nn = None\n",
    "best_f1_score_nn = 0\n",
    "\n",
    "for hd in parameters_dict_nn['hidden_dim']:\n",
    "    model = NeuralNetworkModel(input_dim=X_train_trimmed.shape[1], output_dim=1, hidden_dim=hd)\n",
    "    model.fit(X_train_trimmed, y_train_trimmed)\n",
    "    results = model.evaluate_model(X_val_trimmed, y_val_trimmed)\n",
    "    results_dict_nn[hd] = results\n",
    "\n",
    "    print(f\"Results for hidden_dim={hd}: {results}\")\n",
    "\n",
    "    if results['f1_score'] > best_f1_score_nn:\n",
    "        best_f1_score_nn = results['f1_score']\n",
    "        best_model_nn = model"
   ]
  },
  {
   "cell_type": "markdown",
   "id": "2d850809",
   "metadata": {},
   "source": [
    "Get ATE:"
   ]
  },
  {
   "cell_type": "code",
   "execution_count": 97,
   "id": "bfffbad0",
   "metadata": {},
   "outputs": [
    {
     "name": "stdout",
     "output_type": "stream",
     "text": [
      "Estimated ATE (Neural Network) -0.010452557646435184\n"
     ]
    }
   ],
   "source": [
    "print(f\"Estimated ATE (Neural Network) {calculate_s_learner_ate(best_model_nn, X_inference_trimmed)}\")"
   ]
  },
  {
   "cell_type": "markdown",
   "id": "5c77f42d",
   "metadata": {},
   "source": [
    "Getting Confidence Intervals"
   ]
  },
  {
   "cell_type": "code",
   "execution_count": 98,
   "id": "9d8b3b64",
   "metadata": {},
   "outputs": [],
   "source": [
    "def s_learner_confidence_intervals(s_learner_model, X_train, y_train, X_val, y_val):\n",
    "    \"\"\"\n",
    "    Receives an s-learner model and returns 95% confidence intervals.\n",
    "    You do not need to use every parameter passed to this method and you can add additional parameters.\n",
    "    \n",
    "    You must either print, visualize the confidence intervals or return them as a list.\n",
    "    :param s_learner_model: \n",
    "    :param X_train: \n",
    "    :param y_train: \n",
    "    :param X_val: \n",
    "    :param y_val: \n",
    "    :return: \n",
    "    \"\"\"\n",
    "    \n",
    "    # calculating bootstrap confidence intervals for the ATE estimate\n",
    "\n",
    "    import numpy as np\n",
    "\n",
    "    \n",
    "    bootstrap_samples_num = 20\n",
    "    alpha = 0.05\n",
    "\n",
    "    s_learner_model_train_data = X_train.copy()\n",
    "\n",
    "    bootstrap_sample_size = int(0.1 * s_learner_model_train_data.shape[0])\n",
    "    s_learner_model_test_treatment1, s_learner_model_test_treatment0 = prepare_data_for_s_learner_inference(X_val)\n",
    "\n",
    "    np.random.seed(RANDOM_SEED)\n",
    "    ate_estimates = []\n",
    "    # Bootstrap sampling and model fitting\n",
    "    for i in range(bootstrap_samples_num):\n",
    "        # Generate bootstrap indices\n",
    "        bootstrap_indices = np.random.choice(s_learner_model_train_data.index,\n",
    "                                            size=bootstrap_sample_size,\n",
    "                                            replace=True)\n",
    "        # Create the bootstrap sample using the indices\n",
    "        X_train_resampled = s_learner_model_train_data.loc[bootstrap_indices]\n",
    "        y_train_resampled = y_train.loc[bootstrap_indices]\n",
    "        s_learner_model.fit(X_train_resampled, y_train_resampled)\n",
    "        # Predict the two potential outcomes and calculate ATE\n",
    "        y1_pred = s_learner_model.predict(s_learner_model_test_treatment1)\n",
    "        y0_pred = s_learner_model.predict(s_learner_model_test_treatment0)\n",
    "        ate_estimate = np.mean(y1_pred - y0_pred)\n",
    "        ate_estimates.append(ate_estimate)\n",
    "\n",
    "    # Convert the list of estimates into a numpy array\n",
    "    s_bootstrap_estimates = np.array(ate_estimates)\n",
    "\n",
    "    # Calculate the lower and upper percentiles to get the CI\n",
    "    s_ci = np.percentile(s_bootstrap_estimates, [100 * alpha / 2, 100 * (1 - alpha / 2)], axis=0)\n",
    "\n",
    "    # Print the confidence interval (for example, for the first prediction)\n",
    "    print(f\"95% Confidence Interval: Lower = {s_ci[0]}, Upper = {s_ci[1]}\")\n",
    "\n",
    "    return s_ci, s_bootstrap_estimates"
   ]
  },
  {
   "cell_type": "code",
   "execution_count": 100,
   "id": "af19c04d",
   "metadata": {},
   "outputs": [
    {
     "name": "stderr",
     "output_type": "stream",
     "text": [
      "c:\\Users\\Lenovo\\miniconda3\\Lib\\site-packages\\sklearn\\linear_model\\_sag.py:348: ConvergenceWarning: The max_iter was reached which means the coef_ did not converge\n",
      "  warnings.warn(\n",
      "c:\\Users\\Lenovo\\miniconda3\\Lib\\site-packages\\sklearn\\linear_model\\_sag.py:348: ConvergenceWarning: The max_iter was reached which means the coef_ did not converge\n",
      "  warnings.warn(\n",
      "c:\\Users\\Lenovo\\miniconda3\\Lib\\site-packages\\sklearn\\linear_model\\_sag.py:348: ConvergenceWarning: The max_iter was reached which means the coef_ did not converge\n",
      "  warnings.warn(\n",
      "c:\\Users\\Lenovo\\miniconda3\\Lib\\site-packages\\sklearn\\linear_model\\_sag.py:348: ConvergenceWarning: The max_iter was reached which means the coef_ did not converge\n",
      "  warnings.warn(\n",
      "c:\\Users\\Lenovo\\miniconda3\\Lib\\site-packages\\sklearn\\linear_model\\_sag.py:348: ConvergenceWarning: The max_iter was reached which means the coef_ did not converge\n",
      "  warnings.warn(\n",
      "c:\\Users\\Lenovo\\miniconda3\\Lib\\site-packages\\sklearn\\linear_model\\_sag.py:348: ConvergenceWarning: The max_iter was reached which means the coef_ did not converge\n",
      "  warnings.warn(\n",
      "c:\\Users\\Lenovo\\miniconda3\\Lib\\site-packages\\sklearn\\linear_model\\_sag.py:348: ConvergenceWarning: The max_iter was reached which means the coef_ did not converge\n",
      "  warnings.warn(\n",
      "c:\\Users\\Lenovo\\miniconda3\\Lib\\site-packages\\sklearn\\linear_model\\_sag.py:348: ConvergenceWarning: The max_iter was reached which means the coef_ did not converge\n",
      "  warnings.warn(\n",
      "c:\\Users\\Lenovo\\miniconda3\\Lib\\site-packages\\sklearn\\linear_model\\_sag.py:348: ConvergenceWarning: The max_iter was reached which means the coef_ did not converge\n",
      "  warnings.warn(\n",
      "c:\\Users\\Lenovo\\miniconda3\\Lib\\site-packages\\sklearn\\linear_model\\_sag.py:348: ConvergenceWarning: The max_iter was reached which means the coef_ did not converge\n",
      "  warnings.warn(\n",
      "c:\\Users\\Lenovo\\miniconda3\\Lib\\site-packages\\sklearn\\linear_model\\_sag.py:348: ConvergenceWarning: The max_iter was reached which means the coef_ did not converge\n",
      "  warnings.warn(\n",
      "c:\\Users\\Lenovo\\miniconda3\\Lib\\site-packages\\sklearn\\linear_model\\_sag.py:348: ConvergenceWarning: The max_iter was reached which means the coef_ did not converge\n",
      "  warnings.warn(\n",
      "c:\\Users\\Lenovo\\miniconda3\\Lib\\site-packages\\sklearn\\linear_model\\_sag.py:348: ConvergenceWarning: The max_iter was reached which means the coef_ did not converge\n",
      "  warnings.warn(\n",
      "c:\\Users\\Lenovo\\miniconda3\\Lib\\site-packages\\sklearn\\linear_model\\_sag.py:348: ConvergenceWarning: The max_iter was reached which means the coef_ did not converge\n",
      "  warnings.warn(\n",
      "c:\\Users\\Lenovo\\miniconda3\\Lib\\site-packages\\sklearn\\linear_model\\_sag.py:348: ConvergenceWarning: The max_iter was reached which means the coef_ did not converge\n",
      "  warnings.warn(\n",
      "c:\\Users\\Lenovo\\miniconda3\\Lib\\site-packages\\sklearn\\linear_model\\_sag.py:348: ConvergenceWarning: The max_iter was reached which means the coef_ did not converge\n",
      "  warnings.warn(\n",
      "c:\\Users\\Lenovo\\miniconda3\\Lib\\site-packages\\sklearn\\linear_model\\_sag.py:348: ConvergenceWarning: The max_iter was reached which means the coef_ did not converge\n",
      "  warnings.warn(\n",
      "c:\\Users\\Lenovo\\miniconda3\\Lib\\site-packages\\sklearn\\linear_model\\_sag.py:348: ConvergenceWarning: The max_iter was reached which means the coef_ did not converge\n",
      "  warnings.warn(\n",
      "c:\\Users\\Lenovo\\miniconda3\\Lib\\site-packages\\sklearn\\linear_model\\_sag.py:348: ConvergenceWarning: The max_iter was reached which means the coef_ did not converge\n",
      "  warnings.warn(\n",
      "c:\\Users\\Lenovo\\miniconda3\\Lib\\site-packages\\sklearn\\linear_model\\_sag.py:348: ConvergenceWarning: The max_iter was reached which means the coef_ did not converge\n",
      "  warnings.warn(\n"
     ]
    },
    {
     "name": "stdout",
     "output_type": "stream",
     "text": [
      "95% Confidence Interval: Lower = -0.002502896711542706, Upper = -0.0013083480467887883\n",
      "95% Confidence Interval: Lower = -0.0081563120723902, Upper = -0.0029132641800926956\n",
      "95% Confidence Interval: Lower = -0.020479060913705584, Upper = -0.00796733612888987\n"
     ]
    }
   ],
   "source": [
    "dummy_logist_reg_model = best_model_logist_reg.get_model_no_train()\n",
    "dummy_rand_forest_model = best_model_rand_forest.get_model_no_train()\n",
    "dummy_nn_model = best_model_nn.get_model_no_train()\n",
    "\n",
    "bootstrap_reses_s_learner = {\n",
    "    \"logist_reg\": s_learner_confidence_intervals(dummy_logist_reg_model, X_train_trimmed, y_train_trimmed, X_val_trimmed, y_val_trimmed),\n",
    "    \"rand_forest\": s_learner_confidence_intervals(dummy_rand_forest_model, X_train_trimmed, y_train_trimmed, X_val_trimmed, y_val_trimmed),\n",
    "    \"nn\": s_learner_confidence_intervals(dummy_nn_model, X_train_trimmed, y_train_trimmed, X_val_trimmed, y_val_trimmed),\n",
    "}"
   ]
  },
  {
   "cell_type": "markdown",
   "id": "9b7acfbb",
   "metadata": {},
   "source": [
    "plot boxplot of each bootstrap estimates:"
   ]
  },
  {
   "cell_type": "code",
   "execution_count": 151,
   "id": "ba82861e",
   "metadata": {},
   "outputs": [
    {
     "data": {
      "image/png": "[encoded data removed]",
      "text/plain": [
       "<Figure size 1000x600 with 1 Axes>"
      ]
     },
     "metadata": {},
     "output_type": "display_data"
    }
   ],
   "source": [
    "import matplotlib.pyplot as plt\n",
    "\n",
    "import numpy as np\n",
    "import matplotlib.pyplot as plt\n",
    "\n",
    "def plot_bootstrap_estimates(bootstrap_estimates_list, titles, dot_color = \"red\", ci=95):\n",
    "    plt.figure(figsize=(10, 6))\n",
    "\n",
    "    for i, res in enumerate(bootstrap_estimates_list, start=1):\n",
    "        mean_est = np.mean(res)\n",
    "        lower = np.percentile(res, (100 - ci) / 2)\n",
    "        upper = np.percentile(res, 100 - (100 - ci) / 2)\n",
    "\n",
    "        if mean_est - lower > 0 and upper - mean_est > 0:\n",
    "            # Error bar with caps\n",
    "            plt.errorbar(\n",
    "                i, mean_est,\n",
    "                yerr=[[mean_est - lower], [upper - mean_est]],\n",
    "                fmt=\"o\", color= dot_color, ecolor=\"black\", capsize=5, markersize=6\n",
    "            )\n",
    "        else:\n",
    "            # Error bar without caps\n",
    "            plt.errorbar(\n",
    "                i, mean_est,\n",
    "                # yerr=[[mean_est - lower], [upper - mean_est]],\n",
    "                fmt=\"o\", color= dot_color, ecolor=\"black\", capsize=0, markersize=6\n",
    "            )\n",
    "\n",
    "        # Add label with mean value\n",
    "        plt.text(i + 0.1, mean_est, f\"{mean_est:.2f}\", va=\"center\", fontsize=9)\n",
    "\n",
    "    plt.title(\"Bootstrap Estimates with Confidence Intervals\")\n",
    "    plt.ylabel(\"ATE Estimate\")\n",
    "    # plt.xlabel(\"Models\", fontsize=8)\n",
    "    plt.xticks(range(1, len(bootstrap_estimates_list) + 1), \n",
    "               titles)\n",
    "    plt.grid(True, axis=\"y\")\n",
    "    plt.show()\n",
    "plot_bootstrap_estimates([v[1] for v in bootstrap_reses_s_learner.values()], ['Logistic Regression', 'Random Forest', 'Neural Network'])"
   ]
  },
  {
   "cell_type": "code",
   "execution_count": 102,
   "id": "02b257bf",
   "metadata": {},
   "outputs": [],
   "source": [
    "# save bootstrap reses to json file\n",
    "import json\n",
    "\n",
    "def save_bootstrap_reses_to_json(bootstrap_reses, filename):\n",
    "    bootstrap_reses_to_json = dict()\n",
    "\n",
    "    for key in bootstrap_reses_s_learner:\n",
    "        bootstrap_reses_to_json[key] = (list(bootstrap_reses[key][0]), list(bootstrap_reses[key][1]))\n",
    "\n",
    "    with open(f\"direct estimation reses/{filename}\", \"w\") as f:\n",
    "        json.dump(bootstrap_reses_to_json, f)\n",
    "\n",
    "save_bootstrap_reses_to_json(bootstrap_reses_s_learner, \"bootstrap_reses_s_learner.json\")"
   ]
  },
  {
   "cell_type": "markdown",
   "id": "c5d29c3c",
   "metadata": {},
   "source": [
    "# T-learners"
   ]
  },
  {
   "cell_type": "markdown",
   "id": "50507be9",
   "metadata": {},
   "source": [
    "using best learners acquired by previous steps"
   ]
  },
  {
   "cell_type": "code",
   "execution_count": 103,
   "id": "16987bfd",
   "metadata": {},
   "outputs": [],
   "source": [
    "# initializing models for T=1\n",
    "logist_reg_model_1 = best_model_logist_reg.get_model_no_train()\n",
    "rand_forest_model_1 = best_model_rand_forest.get_model_no_train()\n",
    "nn_model_1 = NeuralNetworkModel(input_dim=X_train_trimmed.shape[1]-1, output_dim=1, hidden_dim=128) #best_model_nn.get_model_no_train()\n",
    "\n",
    "# initializing models for T=0\n",
    "logist_reg_model_0 = best_model_logist_reg.get_model_no_train()\n",
    "rand_forest_model_0 = best_model_rand_forest.get_model_no_train()\n",
    "nn_model_0 = NeuralNetworkModel(input_dim=X_train_trimmed.shape[1]-1, output_dim=1, hidden_dim=128) #best_model_nn.get_model_no_train()"
   ]
  },
  {
   "cell_type": "code",
   "execution_count": 111,
   "id": "9d1af923",
   "metadata": {},
   "outputs": [],
   "source": [
    "def calculate_t_learner_ate(t_learner_model1, t_learner_model0, X):\n",
    "    \"\"\"\n",
    "    Receive t-learners and data, return the ATE inferred over X\n",
    "    \n",
    "    You must return or print the ate estimation on X based on the T-Learner.\n",
    "    :param t_learner_model: \n",
    "    :param X1: \n",
    "    :param X0: \n",
    "    :return: \n",
    "    \"\"\"\n",
    "\n",
    "    if 'T' in X.columns:\n",
    "        X = X.drop(columns=['T'])\n",
    "    ate = t_learner_model1.predict(X).mean() - t_learner_model0.predict(X).mean()\n",
    "    return ate"
   ]
  },
  {
   "cell_type": "markdown",
   "id": "c4f85c41",
   "metadata": {},
   "source": [
    "data preparation"
   ]
  },
  {
   "cell_type": "code",
   "execution_count": 112,
   "id": "c536a7c4",
   "metadata": {},
   "outputs": [],
   "source": [
    "# for T=1\n",
    "X_inference_trimmed_1 = X_inference_trimmed[X_inference_trimmed['T'] == 1].drop(columns=['T'])\n",
    "y_inference_trimmed_1 = y_inference_trimmed[X_inference_trimmed['T'] == 1]\n",
    "\n",
    "# for T=0\n",
    "X_inference_trimmed_0 = X_inference_trimmed[X_inference_trimmed['T'] == 0].drop(columns=['T'])\n",
    "y_inference_trimmed_0 = y_inference_trimmed[X_inference_trimmed['T'] == 0]\n"
   ]
  },
  {
   "cell_type": "code",
   "execution_count": 113,
   "id": "9ce81dd0",
   "metadata": {},
   "outputs": [],
   "source": [
    "def train_and_evaluate_T_learner(model_1, model_0, X_train, y_train, X_val, y_val, model_name = \"\"):\n",
    "    model_1 = model_1.get_model_no_train()\n",
    "    model_0 = model_0.get_model_no_train()\n",
    "    \n",
    "    X_train_1 = X_train[X_train['T'] == 1].drop(columns=['T'])\n",
    "    X_train_0 = X_train[X_train['T'] == 0].drop(columns=['T'])\n",
    "    y_train_1 = y_train[X_train['T'] == 1]\n",
    "    y_train_0 = y_train[X_train['T'] == 0]\n",
    "\n",
    "    X_val_0 = X_val[X_val['T'] == 0].drop(columns=['T'])\n",
    "    X_val_1 = X_val[X_val['T'] == 1].drop(columns=['T'])\n",
    "    y_val_0 = y_val[X_val['T'] == 0]\n",
    "    y_val_1 = y_val[X_val['T'] == 1]\n",
    "\n",
    "    model_1.fit(X_train_1, y_train_1)\n",
    "    model_0.fit(X_train_0, y_train_0)\n",
    "\n",
    "    print(f\"Model 1 ({model_name}) VAL score: {model_1.evaluate_model(X_val_1, y_val_1)}\")\n",
    "    print(f\"Model 0 ({model_name}) VAL score: {model_0.evaluate_model(X_val_0, y_val_0)}\")\n",
    "\n",
    "    print(f\"Model 1 ({model_name}) TRAIN score: {model_1.evaluate_model(X_train_1, y_train_1)}\")\n",
    "    print(f\"Model 0 ({model_name}) TRAIN score: {model_0.evaluate_model(X_train_0, y_train_0)}\")\n",
    "\n",
    "    print(f\"Estimated ATE (T-Learner): {calculate_t_learner_ate(model_1, model_0, X_val)}\")"
   ]
  },
  {
   "cell_type": "markdown",
   "id": "a597d197",
   "metadata": {},
   "source": [
    "### logistic regression"
   ]
  },
  {
   "cell_type": "code",
   "execution_count": 114,
   "id": "e48270ac",
   "metadata": {},
   "outputs": [
    {
     "name": "stderr",
     "output_type": "stream",
     "text": [
      "c:\\Users\\Lenovo\\miniconda3\\Lib\\site-packages\\sklearn\\linear_model\\_sag.py:348: ConvergenceWarning: The max_iter was reached which means the coef_ did not converge\n",
      "  warnings.warn(\n",
      "c:\\Users\\Lenovo\\miniconda3\\Lib\\site-packages\\sklearn\\linear_model\\_sag.py:348: ConvergenceWarning: The max_iter was reached which means the coef_ did not converge\n",
      "  warnings.warn(\n"
     ]
    },
    {
     "name": "stdout",
     "output_type": "stream",
     "text": [
      "Model 1 (Logistic Regression) VAL score: {'accuracy': 0.9176579859250527, 'f1_score': 0.5170752147496334}\n",
      "Model 0 (Logistic Regression) VAL score: {'accuracy': 0.8639612356147789, 'f1_score': 0.8096932723267243}\n",
      "Model 1 (Logistic Regression) TRAIN score: {'accuracy': 0.9189898276999555, 'f1_score': 0.5322466335931963}\n",
      "Model 0 (Logistic Regression) TRAIN score: {'accuracy': 0.8641706799233597, 'f1_score': 0.8105453232213795}\n",
      "Estimated ATE (T-Learner): -0.013076583535643338\n"
     ]
    }
   ],
   "source": [
    "train_and_evaluate_T_learner(logist_reg_model_1, logist_reg_model_0, X_train_trimmed, y_train_trimmed, X_val_trimmed, y_val_trimmed, \"Logistic Regression\")"
   ]
  },
  {
   "cell_type": "markdown",
   "id": "5761d6a4",
   "metadata": {},
   "source": [
    "### Random Forest"
   ]
  },
  {
   "cell_type": "code",
   "execution_count": 115,
   "id": "3a7236c5",
   "metadata": {},
   "outputs": [
    {
     "name": "stdout",
     "output_type": "stream",
     "text": [
      "Model 1 (Random Forest) VAL score: {'accuracy_score': 0.9300896652734613, 'f1_score': 0.6417719201903715}\n",
      "Model 0 (Random Forest) VAL score: {'accuracy_score': 0.8846759539672926, 'f1_score': 0.8500787401574803}\n",
      "Model 1 (Random Forest) TRAIN score: {'accuracy_score': 0.9999693143286742, 'f1_score': 0.9998757146408153}\n",
      "Model 0 (Random Forest) TRAIN score: {'accuracy_score': 1.0, 'f1_score': 1.0}\n",
      "Estimated ATE (T-Learner): -0.016718163760759214\n"
     ]
    }
   ],
   "source": [
    "train_and_evaluate_T_learner(rand_forest_model_1, rand_forest_model_0, X_train_trimmed, y_train_trimmed, X_val_trimmed, y_val_trimmed, \"Random Forest\")"
   ]
  },
  {
   "cell_type": "markdown",
   "id": "5e9acc40",
   "metadata": {},
   "source": [
    "### Neural Network"
   ]
  },
  {
   "cell_type": "code",
   "execution_count": 116,
   "id": "63a5fab4",
   "metadata": {},
   "outputs": [
    {
     "name": "stdout",
     "output_type": "stream",
     "text": [
      "Model 1 (Neural Network) VAL score: {'accuracy_score': 0.9314114242846426, 'f1_score': 0.6549245147375988}\n",
      "Model 0 (Neural Network) VAL score: {'accuracy_score': 0.8887946698970322, 'f1_score': 0.8568309419837804}\n",
      "Model 1 (Neural Network) TRAIN score: {'accuracy_score': 0.9345628058977861, 'f1_score': 0.6740542606037447}\n",
      "Model 0 (Neural Network) TRAIN score: {'accuracy_score': 0.8970534928279219, 'f1_score': 0.8681522748375116}\n",
      "Estimated ATE (T-Learner): -0.017683734274994478\n"
     ]
    }
   ],
   "source": [
    "train_and_evaluate_T_learner(nn_model_1, nn_model_0, X_train_trimmed, y_train_trimmed, X_val_trimmed, y_val_trimmed, \"Neural Network\")"
   ]
  },
  {
   "cell_type": "markdown",
   "id": "8ca6e8ea",
   "metadata": {},
   "source": [
    "### Bootstrap CE"
   ]
  },
  {
   "cell_type": "code",
   "execution_count": 117,
   "id": "c3a7ad08",
   "metadata": {},
   "outputs": [],
   "source": [
    "def bootstrap_confidence_interval_t_learner(model_1, model_0, X_train, y_train, X_val, y_val, alpha=0.05, bootstrap_sample_size=10000):\n",
    "    ate_estimates = []\n",
    "    bootstrap_samples_num = 20\n",
    "    # Bootstrap sampling and model fitting\n",
    "    for i in range(bootstrap_samples_num):\n",
    "        # Generate bootstrap indices\n",
    "        bootstrap_indices = np.random.choice(X_train.index,\n",
    "                                            size = bootstrap_sample_size,\n",
    "                                            replace=True)\n",
    "        # Create the bootstrap sample using the indices\n",
    "        X_train_resampled = X_train.loc[bootstrap_indices]\n",
    "        y_train_resampled = y_train.loc[bootstrap_indices]\n",
    "        \n",
    "        # train separate model on treatment=1 data\n",
    "        X_train1_resampled = X_train_resampled[X_train_resampled['T'] == 1]\n",
    "        y_train1_resampled = y_train_resampled[X_train_resampled['T'] == 1]\n",
    "        X_train1_resampled = X_train1_resampled.drop(columns=['T'])\n",
    "        model_1.fit(X_train1_resampled, y_train1_resampled)\n",
    "        # train separate model on treatment=0 data\n",
    "        X_train0_resampled = X_train_resampled[X_train_resampled['T'] == 0]\n",
    "        y_train0_resampled = y_train_resampled[X_train_resampled['T'] == 0]\n",
    "        X_train0_resampled = X_train0_resampled.drop(columns=['T'])\n",
    "        model_0.fit(X_train0_resampled, y_train0_resampled)\n",
    "        \n",
    "        X_test = X_val.drop(columns=['T'])\n",
    "        # Predict the two potential outcomes and calculate ATE\n",
    "        y1_pred = model_1.predict(X_test)\n",
    "        y0_pred = model_0.predict(X_test)\n",
    "        ate_estimate = np.mean(y1_pred - y0_pred)\n",
    "        ate_estimates.append(ate_estimate)\n",
    "\n",
    "    # Convert the list of estimates into a numpy array\n",
    "    t_bootstrap_estimates = np.array(ate_estimates)\n",
    "\n",
    "    # Calculate the lower and upper percentiles to get the CI\n",
    "    t_ci = np.percentile(t_bootstrap_estimates, [100 * alpha / 2, 100 * (1 - alpha / 2)], axis=0)\n",
    "\n",
    "    # Print the confidence interval (for example, for the first prediction)\n",
    "    print(f\"95% Confidence Interval: Lower = {t_ci[0]}, Upper = {t_ci[1]}\")\n",
    "\n",
    "    return t_ci, t_bootstrap_estimates"
   ]
  },
  {
   "cell_type": "code",
   "execution_count": 118,
   "id": "931a3888",
   "metadata": {},
   "outputs": [
    {
     "name": "stderr",
     "output_type": "stream",
     "text": [
      "c:\\Users\\Lenovo\\miniconda3\\Lib\\site-packages\\sklearn\\linear_model\\_sag.py:348: ConvergenceWarning: The max_iter was reached which means the coef_ did not converge\n",
      "  warnings.warn(\n",
      "c:\\Users\\Lenovo\\miniconda3\\Lib\\site-packages\\sklearn\\linear_model\\_sag.py:348: ConvergenceWarning: The max_iter was reached which means the coef_ did not converge\n",
      "  warnings.warn(\n",
      "c:\\Users\\Lenovo\\miniconda3\\Lib\\site-packages\\sklearn\\linear_model\\_sag.py:348: ConvergenceWarning: The max_iter was reached which means the coef_ did not converge\n",
      "  warnings.warn(\n",
      "c:\\Users\\Lenovo\\miniconda3\\Lib\\site-packages\\sklearn\\linear_model\\_sag.py:348: ConvergenceWarning: The max_iter was reached which means the coef_ did not converge\n",
      "  warnings.warn(\n",
      "c:\\Users\\Lenovo\\miniconda3\\Lib\\site-packages\\sklearn\\linear_model\\_sag.py:348: ConvergenceWarning: The max_iter was reached which means the coef_ did not converge\n",
      "  warnings.warn(\n",
      "c:\\Users\\Lenovo\\miniconda3\\Lib\\site-packages\\sklearn\\linear_model\\_sag.py:348: ConvergenceWarning: The max_iter was reached which means the coef_ did not converge\n",
      "  warnings.warn(\n",
      "c:\\Users\\Lenovo\\miniconda3\\Lib\\site-packages\\sklearn\\linear_model\\_sag.py:348: ConvergenceWarning: The max_iter was reached which means the coef_ did not converge\n",
      "  warnings.warn(\n",
      "c:\\Users\\Lenovo\\miniconda3\\Lib\\site-packages\\sklearn\\linear_model\\_sag.py:348: ConvergenceWarning: The max_iter was reached which means the coef_ did not converge\n",
      "  warnings.warn(\n",
      "c:\\Users\\Lenovo\\miniconda3\\Lib\\site-packages\\sklearn\\linear_model\\_sag.py:348: ConvergenceWarning: The max_iter was reached which means the coef_ did not converge\n",
      "  warnings.warn(\n",
      "c:\\Users\\Lenovo\\miniconda3\\Lib\\site-packages\\sklearn\\linear_model\\_sag.py:348: ConvergenceWarning: The max_iter was reached which means the coef_ did not converge\n",
      "  warnings.warn(\n",
      "c:\\Users\\Lenovo\\miniconda3\\Lib\\site-packages\\sklearn\\linear_model\\_sag.py:348: ConvergenceWarning: The max_iter was reached which means the coef_ did not converge\n",
      "  warnings.warn(\n",
      "c:\\Users\\Lenovo\\miniconda3\\Lib\\site-packages\\sklearn\\linear_model\\_sag.py:348: ConvergenceWarning: The max_iter was reached which means the coef_ did not converge\n",
      "  warnings.warn(\n",
      "c:\\Users\\Lenovo\\miniconda3\\Lib\\site-packages\\sklearn\\linear_model\\_sag.py:348: ConvergenceWarning: The max_iter was reached which means the coef_ did not converge\n",
      "  warnings.warn(\n",
      "c:\\Users\\Lenovo\\miniconda3\\Lib\\site-packages\\sklearn\\linear_model\\_sag.py:348: ConvergenceWarning: The max_iter was reached which means the coef_ did not converge\n",
      "  warnings.warn(\n",
      "c:\\Users\\Lenovo\\miniconda3\\Lib\\site-packages\\sklearn\\linear_model\\_sag.py:348: ConvergenceWarning: The max_iter was reached which means the coef_ did not converge\n",
      "  warnings.warn(\n",
      "c:\\Users\\Lenovo\\miniconda3\\Lib\\site-packages\\sklearn\\linear_model\\_sag.py:348: ConvergenceWarning: The max_iter was reached which means the coef_ did not converge\n",
      "  warnings.warn(\n",
      "c:\\Users\\Lenovo\\miniconda3\\Lib\\site-packages\\sklearn\\linear_model\\_sag.py:348: ConvergenceWarning: The max_iter was reached which means the coef_ did not converge\n",
      "  warnings.warn(\n",
      "c:\\Users\\Lenovo\\miniconda3\\Lib\\site-packages\\sklearn\\linear_model\\_sag.py:348: ConvergenceWarning: The max_iter was reached which means the coef_ did not converge\n",
      "  warnings.warn(\n",
      "c:\\Users\\Lenovo\\miniconda3\\Lib\\site-packages\\sklearn\\linear_model\\_sag.py:348: ConvergenceWarning: The max_iter was reached which means the coef_ did not converge\n",
      "  warnings.warn(\n",
      "c:\\Users\\Lenovo\\miniconda3\\Lib\\site-packages\\sklearn\\linear_model\\_sag.py:348: ConvergenceWarning: The max_iter was reached which means the coef_ did not converge\n",
      "  warnings.warn(\n",
      "c:\\Users\\Lenovo\\miniconda3\\Lib\\site-packages\\sklearn\\linear_model\\_sag.py:348: ConvergenceWarning: The max_iter was reached which means the coef_ did not converge\n",
      "  warnings.warn(\n",
      "c:\\Users\\Lenovo\\miniconda3\\Lib\\site-packages\\sklearn\\linear_model\\_sag.py:348: ConvergenceWarning: The max_iter was reached which means the coef_ did not converge\n",
      "  warnings.warn(\n",
      "c:\\Users\\Lenovo\\miniconda3\\Lib\\site-packages\\sklearn\\linear_model\\_sag.py:348: ConvergenceWarning: The max_iter was reached which means the coef_ did not converge\n",
      "  warnings.warn(\n",
      "c:\\Users\\Lenovo\\miniconda3\\Lib\\site-packages\\sklearn\\linear_model\\_sag.py:348: ConvergenceWarning: The max_iter was reached which means the coef_ did not converge\n",
      "  warnings.warn(\n",
      "c:\\Users\\Lenovo\\miniconda3\\Lib\\site-packages\\sklearn\\linear_model\\_sag.py:348: ConvergenceWarning: The max_iter was reached which means the coef_ did not converge\n",
      "  warnings.warn(\n",
      "c:\\Users\\Lenovo\\miniconda3\\Lib\\site-packages\\sklearn\\linear_model\\_sag.py:348: ConvergenceWarning: The max_iter was reached which means the coef_ did not converge\n",
      "  warnings.warn(\n",
      "c:\\Users\\Lenovo\\miniconda3\\Lib\\site-packages\\sklearn\\linear_model\\_sag.py:348: ConvergenceWarning: The max_iter was reached which means the coef_ did not converge\n",
      "  warnings.warn(\n",
      "c:\\Users\\Lenovo\\miniconda3\\Lib\\site-packages\\sklearn\\linear_model\\_sag.py:348: ConvergenceWarning: The max_iter was reached which means the coef_ did not converge\n",
      "  warnings.warn(\n",
      "c:\\Users\\Lenovo\\miniconda3\\Lib\\site-packages\\sklearn\\linear_model\\_sag.py:348: ConvergenceWarning: The max_iter was reached which means the coef_ did not converge\n",
      "  warnings.warn(\n",
      "c:\\Users\\Lenovo\\miniconda3\\Lib\\site-packages\\sklearn\\linear_model\\_sag.py:348: ConvergenceWarning: The max_iter was reached which means the coef_ did not converge\n",
      "  warnings.warn(\n",
      "c:\\Users\\Lenovo\\miniconda3\\Lib\\site-packages\\sklearn\\linear_model\\_sag.py:348: ConvergenceWarning: The max_iter was reached which means the coef_ did not converge\n",
      "  warnings.warn(\n",
      "c:\\Users\\Lenovo\\miniconda3\\Lib\\site-packages\\sklearn\\linear_model\\_sag.py:348: ConvergenceWarning: The max_iter was reached which means the coef_ did not converge\n",
      "  warnings.warn(\n",
      "c:\\Users\\Lenovo\\miniconda3\\Lib\\site-packages\\sklearn\\linear_model\\_sag.py:348: ConvergenceWarning: The max_iter was reached which means the coef_ did not converge\n",
      "  warnings.warn(\n",
      "c:\\Users\\Lenovo\\miniconda3\\Lib\\site-packages\\sklearn\\linear_model\\_sag.py:348: ConvergenceWarning: The max_iter was reached which means the coef_ did not converge\n",
      "  warnings.warn(\n",
      "c:\\Users\\Lenovo\\miniconda3\\Lib\\site-packages\\sklearn\\linear_model\\_sag.py:348: ConvergenceWarning: The max_iter was reached which means the coef_ did not converge\n",
      "  warnings.warn(\n",
      "c:\\Users\\Lenovo\\miniconda3\\Lib\\site-packages\\sklearn\\linear_model\\_sag.py:348: ConvergenceWarning: The max_iter was reached which means the coef_ did not converge\n",
      "  warnings.warn(\n",
      "c:\\Users\\Lenovo\\miniconda3\\Lib\\site-packages\\sklearn\\linear_model\\_sag.py:348: ConvergenceWarning: The max_iter was reached which means the coef_ did not converge\n",
      "  warnings.warn(\n",
      "c:\\Users\\Lenovo\\miniconda3\\Lib\\site-packages\\sklearn\\linear_model\\_sag.py:348: ConvergenceWarning: The max_iter was reached which means the coef_ did not converge\n",
      "  warnings.warn(\n",
      "c:\\Users\\Lenovo\\miniconda3\\Lib\\site-packages\\sklearn\\linear_model\\_sag.py:348: ConvergenceWarning: The max_iter was reached which means the coef_ did not converge\n",
      "  warnings.warn(\n",
      "c:\\Users\\Lenovo\\miniconda3\\Lib\\site-packages\\sklearn\\linear_model\\_sag.py:348: ConvergenceWarning: The max_iter was reached which means the coef_ did not converge\n",
      "  warnings.warn(\n"
     ]
    },
    {
     "name": "stdout",
     "output_type": "stream",
     "text": [
      "95% Confidence Interval: Lower = -0.020834252924299274, Upper = -0.009268097550209667\n",
      "95% Confidence Interval: Lower = -0.025008966011917898, Upper = -0.012900711763407638\n",
      "95% Confidence Interval: Lower = -0.028382945265945706, Upper = 0.004700949017876846\n"
     ]
    }
   ],
   "source": [
    "bootstrap_reses_t_learner = {\n",
    "    \"logist_reg\": bootstrap_confidence_interval_t_learner(logist_reg_model_1, logist_reg_model_0, X_train_trimmed, y_train_trimmed, X_val_trimmed, y_val_trimmed),\n",
    "    \"rand_forest\": bootstrap_confidence_interval_t_learner(rand_forest_model_1, rand_forest_model_0, X_train_trimmed, y_train_trimmed, X_val_trimmed, y_val_trimmed),\n",
    "    \"nn\": bootstrap_confidence_interval_t_learner(nn_model_1, nn_model_0, X_train_trimmed, y_train_trimmed, X_val_trimmed, y_val_trimmed),\n",
    "}"
   ]
  },
  {
   "cell_type": "code",
   "execution_count": 119,
   "id": "0a387e56",
   "metadata": {},
   "outputs": [
    {
     "data": {
      "image/png": "[encoded data removed]",
      "text/plain": [
       "<Figure size 1000x600 with 1 Axes>"
      ]
     },
     "metadata": {},
     "output_type": "display_data"
    }
   ],
   "source": [
    "plot_bootstrap_estimates([v[1] for v in bootstrap_reses_t_learner.values()], ['Logistic Regression', 'Random Forest', 'Neural Network'], dot_color = \"blue\")"
   ]
  },
  {
   "cell_type": "code",
   "execution_count": 120,
   "id": "824f8f75",
   "metadata": {},
   "outputs": [],
   "source": [
    "save_bootstrap_reses_to_json(bootstrap_reses_t_learner, \"bootstrap_reses_t_learner.json\")"
   ]
  },
  {
   "cell_type": "markdown",
   "id": "753587fe",
   "metadata": {},
   "source": [
    "# IPW"
   ]
  },
  {
   "cell_type": "code",
   "execution_count": 121,
   "id": "bda22d0d",
   "metadata": {},
   "outputs": [],
   "source": [
    "from copy import deepcopy\n",
    "\n",
    "\n",
    "def bootstrap_confidence_interval_ipw(X_train, y_train, X_val, y_val):\n",
    "    bootstrap_sample_size = 10000\n",
    "    bootstrap_sample_num = 20\n",
    "    alpha = 0.05\n",
    "    np.random.seed(42)\n",
    "    ate_estimates = []\n",
    "    IPW_model = LogisticRegression(max_iter=1000, random_state=42) # best previously found propensity model\n",
    "    # Bootstrap sampling and model fitting\n",
    "    for i in range(bootstrap_sample_num):\n",
    "        # Generate bootstrap indices\n",
    "        bootstrap_indices = np.random.choice(X_train.index,\n",
    "                                            size=bootstrap_sample_size,\n",
    "                                            replace=True)\n",
    "        # Create the bootstrap sample using the indices\n",
    "        X_train_resampled = X_train.loc[bootstrap_indices]\n",
    "        # T_train_resampled = T_train.loc[bootstrap_indices]\n",
    "        IPW_model.fit(X_train_resampled.drop(columns='T', inplace = False), X_train_resampled['T'])\n",
    "        # get propensity on test\n",
    "        temp_test_data = deepcopy(X_val)\n",
    "        temp_test_data['propensity'] = IPW_model.predict_proba(temp_test_data.drop(columns='T', inplace = False))[:,1]\n",
    "        y1_weighted_estimate = np.sum(((temp_test_data['T'] == 1).astype(int) * y_val) / temp_test_data['propensity']) / np.sum(temp_test_data['T'] == 1)\n",
    "        y0_weighted_estimate = np.sum(((temp_test_data['T'] == 0).astype(int) * y_val) / (1 - temp_test_data['propensity'])) / np.sum(temp_test_data['T'] == 0)\n",
    "        ate_estimate = y1_weighted_estimate - y0_weighted_estimate\n",
    "        ate_estimates.append(ate_estimate)\n",
    "\n",
    "    # Convert the list of estimates into a numpy array\n",
    "    ipw_bootstrap_estimates = np.array(ate_estimates)\n",
    "\n",
    "    # Calculate the lower and upper percentiles to get the CI\n",
    "    ipw_ci = np.percentile(ipw_bootstrap_estimates, [100 * alpha / 2, 100 * (1 - alpha / 2)], axis=0)\n",
    "\n",
    "    # Print the confidence interval (for example, for the first prediction)\n",
    "    print(f\"95% Confidence Interval: Lower = {ipw_ci[0]}, Upper = {ipw_ci[1]}\")\n",
    "\n",
    "    return ipw_ci, ipw_bootstrap_estimates"
   ]
  },
  {
   "cell_type": "code",
   "execution_count": 122,
   "id": "39bba47b",
   "metadata": {},
   "outputs": [
    {
     "name": "stderr",
     "output_type": "stream",
     "text": [
      "c:\\Users\\Lenovo\\miniconda3\\Lib\\site-packages\\sklearn\\linear_model\\_logistic.py:473: ConvergenceWarning: lbfgs failed to converge after 1000 iteration(s) (status=1):\n",
      "STOP: TOTAL NO. of ITERATIONS REACHED LIMIT\n",
      "\n",
      "Increase the number of iterations to improve the convergence (max_iter=1000).\n",
      "You might also want to scale the data as shown in:\n",
      "    https://scikit-learn.org/stable/modules/preprocessing.html\n",
      "Please also refer to the documentation for alternative solver options:\n",
      "    https://scikit-learn.org/stable/modules/linear_model.html#logistic-regression\n",
      "  n_iter_i = _check_optimize_result(\n",
      "c:\\Users\\Lenovo\\miniconda3\\Lib\\site-packages\\sklearn\\linear_model\\_logistic.py:473: ConvergenceWarning: lbfgs failed to converge after 1000 iteration(s) (status=1):\n",
      "STOP: TOTAL NO. of ITERATIONS REACHED LIMIT\n",
      "\n",
      "Increase the number of iterations to improve the convergence (max_iter=1000).\n",
      "You might also want to scale the data as shown in:\n",
      "    https://scikit-learn.org/stable/modules/preprocessing.html\n",
      "Please also refer to the documentation for alternative solver options:\n",
      "    https://scikit-learn.org/stable/modules/linear_model.html#logistic-regression\n",
      "  n_iter_i = _check_optimize_result(\n",
      "c:\\Users\\Lenovo\\miniconda3\\Lib\\site-packages\\sklearn\\linear_model\\_logistic.py:473: ConvergenceWarning: lbfgs failed to converge after 1000 iteration(s) (status=1):\n",
      "STOP: TOTAL NO. of ITERATIONS REACHED LIMIT\n",
      "\n",
      "Increase the number of iterations to improve the convergence (max_iter=1000).\n",
      "You might also want to scale the data as shown in:\n",
      "    https://scikit-learn.org/stable/modules/preprocessing.html\n",
      "Please also refer to the documentation for alternative solver options:\n",
      "    https://scikit-learn.org/stable/modules/linear_model.html#logistic-regression\n",
      "  n_iter_i = _check_optimize_result(\n",
      "c:\\Users\\Lenovo\\miniconda3\\Lib\\site-packages\\sklearn\\linear_model\\_logistic.py:473: ConvergenceWarning: lbfgs failed to converge after 1000 iteration(s) (status=1):\n",
      "STOP: TOTAL NO. of ITERATIONS REACHED LIMIT\n",
      "\n",
      "Increase the number of iterations to improve the convergence (max_iter=1000).\n",
      "You might also want to scale the data as shown in:\n",
      "    https://scikit-learn.org/stable/modules/preprocessing.html\n",
      "Please also refer to the documentation for alternative solver options:\n",
      "    https://scikit-learn.org/stable/modules/linear_model.html#logistic-regression\n",
      "  n_iter_i = _check_optimize_result(\n",
      "c:\\Users\\Lenovo\\miniconda3\\Lib\\site-packages\\sklearn\\linear_model\\_logistic.py:473: ConvergenceWarning: lbfgs failed to converge after 1000 iteration(s) (status=1):\n",
      "STOP: TOTAL NO. of ITERATIONS REACHED LIMIT\n",
      "\n",
      "Increase the number of iterations to improve the convergence (max_iter=1000).\n",
      "You might also want to scale the data as shown in:\n",
      "    https://scikit-learn.org/stable/modules/preprocessing.html\n",
      "Please also refer to the documentation for alternative solver options:\n",
      "    https://scikit-learn.org/stable/modules/linear_model.html#logistic-regression\n",
      "  n_iter_i = _check_optimize_result(\n",
      "c:\\Users\\Lenovo\\miniconda3\\Lib\\site-packages\\sklearn\\linear_model\\_logistic.py:473: ConvergenceWarning: lbfgs failed to converge after 1000 iteration(s) (status=1):\n",
      "STOP: TOTAL NO. of ITERATIONS REACHED LIMIT\n",
      "\n",
      "Increase the number of iterations to improve the convergence (max_iter=1000).\n",
      "You might also want to scale the data as shown in:\n",
      "    https://scikit-learn.org/stable/modules/preprocessing.html\n",
      "Please also refer to the documentation for alternative solver options:\n",
      "    https://scikit-learn.org/stable/modules/linear_model.html#logistic-regression\n",
      "  n_iter_i = _check_optimize_result(\n",
      "c:\\Users\\Lenovo\\miniconda3\\Lib\\site-packages\\sklearn\\linear_model\\_logistic.py:473: ConvergenceWarning: lbfgs failed to converge after 1000 iteration(s) (status=1):\n",
      "STOP: TOTAL NO. of ITERATIONS REACHED LIMIT\n",
      "\n",
      "Increase the number of iterations to improve the convergence (max_iter=1000).\n",
      "You might also want to scale the data as shown in:\n",
      "    https://scikit-learn.org/stable/modules/preprocessing.html\n",
      "Please also refer to the documentation for alternative solver options:\n",
      "    https://scikit-learn.org/stable/modules/linear_model.html#logistic-regression\n",
      "  n_iter_i = _check_optimize_result(\n",
      "c:\\Users\\Lenovo\\miniconda3\\Lib\\site-packages\\sklearn\\linear_model\\_logistic.py:473: ConvergenceWarning: lbfgs failed to converge after 1000 iteration(s) (status=1):\n",
      "STOP: TOTAL NO. of ITERATIONS REACHED LIMIT\n",
      "\n",
      "Increase the number of iterations to improve the convergence (max_iter=1000).\n",
      "You might also want to scale the data as shown in:\n",
      "    https://scikit-learn.org/stable/modules/preprocessing.html\n",
      "Please also refer to the documentation for alternative solver options:\n",
      "    https://scikit-learn.org/stable/modules/linear_model.html#logistic-regression\n",
      "  n_iter_i = _check_optimize_result(\n",
      "c:\\Users\\Lenovo\\miniconda3\\Lib\\site-packages\\sklearn\\linear_model\\_logistic.py:473: ConvergenceWarning: lbfgs failed to converge after 1000 iteration(s) (status=1):\n",
      "STOP: TOTAL NO. of ITERATIONS REACHED LIMIT\n",
      "\n",
      "Increase the number of iterations to improve the convergence (max_iter=1000).\n",
      "You might also want to scale the data as shown in:\n",
      "    https://scikit-learn.org/stable/modules/preprocessing.html\n",
      "Please also refer to the documentation for alternative solver options:\n",
      "    https://scikit-learn.org/stable/modules/linear_model.html#logistic-regression\n",
      "  n_iter_i = _check_optimize_result(\n",
      "c:\\Users\\Lenovo\\miniconda3\\Lib\\site-packages\\sklearn\\linear_model\\_logistic.py:473: ConvergenceWarning: lbfgs failed to converge after 1000 iteration(s) (status=1):\n",
      "STOP: TOTAL NO. of ITERATIONS REACHED LIMIT\n",
      "\n",
      "Increase the number of iterations to improve the convergence (max_iter=1000).\n",
      "You might also want to scale the data as shown in:\n",
      "    https://scikit-learn.org/stable/modules/preprocessing.html\n",
      "Please also refer to the documentation for alternative solver options:\n",
      "    https://scikit-learn.org/stable/modules/linear_model.html#logistic-regression\n",
      "  n_iter_i = _check_optimize_result(\n",
      "c:\\Users\\Lenovo\\miniconda3\\Lib\\site-packages\\sklearn\\linear_model\\_logistic.py:473: ConvergenceWarning: lbfgs failed to converge after 1000 iteration(s) (status=1):\n",
      "STOP: TOTAL NO. of ITERATIONS REACHED LIMIT\n",
      "\n",
      "Increase the number of iterations to improve the convergence (max_iter=1000).\n",
      "You might also want to scale the data as shown in:\n",
      "    https://scikit-learn.org/stable/modules/preprocessing.html\n",
      "Please also refer to the documentation for alternative solver options:\n",
      "    https://scikit-learn.org/stable/modules/linear_model.html#logistic-regression\n",
      "  n_iter_i = _check_optimize_result(\n",
      "c:\\Users\\Lenovo\\miniconda3\\Lib\\site-packages\\sklearn\\linear_model\\_logistic.py:473: ConvergenceWarning: lbfgs failed to converge after 1000 iteration(s) (status=1):\n",
      "STOP: TOTAL NO. of ITERATIONS REACHED LIMIT\n",
      "\n",
      "Increase the number of iterations to improve the convergence (max_iter=1000).\n",
      "You might also want to scale the data as shown in:\n",
      "    https://scikit-learn.org/stable/modules/preprocessing.html\n",
      "Please also refer to the documentation for alternative solver options:\n",
      "    https://scikit-learn.org/stable/modules/linear_model.html#logistic-regression\n",
      "  n_iter_i = _check_optimize_result(\n",
      "c:\\Users\\Lenovo\\miniconda3\\Lib\\site-packages\\sklearn\\linear_model\\_logistic.py:473: ConvergenceWarning: lbfgs failed to converge after 1000 iteration(s) (status=1):\n",
      "STOP: TOTAL NO. of ITERATIONS REACHED LIMIT\n",
      "\n",
      "Increase the number of iterations to improve the convergence (max_iter=1000).\n",
      "You might also want to scale the data as shown in:\n",
      "    https://scikit-learn.org/stable/modules/preprocessing.html\n",
      "Please also refer to the documentation for alternative solver options:\n",
      "    https://scikit-learn.org/stable/modules/linear_model.html#logistic-regression\n",
      "  n_iter_i = _check_optimize_result(\n",
      "c:\\Users\\Lenovo\\miniconda3\\Lib\\site-packages\\sklearn\\linear_model\\_logistic.py:473: ConvergenceWarning: lbfgs failed to converge after 1000 iteration(s) (status=1):\n",
      "STOP: TOTAL NO. of ITERATIONS REACHED LIMIT\n",
      "\n",
      "Increase the number of iterations to improve the convergence (max_iter=1000).\n",
      "You might also want to scale the data as shown in:\n",
      "    https://scikit-learn.org/stable/modules/preprocessing.html\n",
      "Please also refer to the documentation for alternative solver options:\n",
      "    https://scikit-learn.org/stable/modules/linear_model.html#logistic-regression\n",
      "  n_iter_i = _check_optimize_result(\n",
      "c:\\Users\\Lenovo\\miniconda3\\Lib\\site-packages\\sklearn\\linear_model\\_logistic.py:473: ConvergenceWarning: lbfgs failed to converge after 1000 iteration(s) (status=1):\n",
      "STOP: TOTAL NO. of ITERATIONS REACHED LIMIT\n",
      "\n",
      "Increase the number of iterations to improve the convergence (max_iter=1000).\n",
      "You might also want to scale the data as shown in:\n",
      "    https://scikit-learn.org/stable/modules/preprocessing.html\n",
      "Please also refer to the documentation for alternative solver options:\n",
      "    https://scikit-learn.org/stable/modules/linear_model.html#logistic-regression\n",
      "  n_iter_i = _check_optimize_result(\n",
      "c:\\Users\\Lenovo\\miniconda3\\Lib\\site-packages\\sklearn\\linear_model\\_logistic.py:473: ConvergenceWarning: lbfgs failed to converge after 1000 iteration(s) (status=1):\n",
      "STOP: TOTAL NO. of ITERATIONS REACHED LIMIT\n",
      "\n",
      "Increase the number of iterations to improve the convergence (max_iter=1000).\n",
      "You might also want to scale the data as shown in:\n",
      "    https://scikit-learn.org/stable/modules/preprocessing.html\n",
      "Please also refer to the documentation for alternative solver options:\n",
      "    https://scikit-learn.org/stable/modules/linear_model.html#logistic-regression\n",
      "  n_iter_i = _check_optimize_result(\n",
      "c:\\Users\\Lenovo\\miniconda3\\Lib\\site-packages\\sklearn\\linear_model\\_logistic.py:473: ConvergenceWarning: lbfgs failed to converge after 1000 iteration(s) (status=1):\n",
      "STOP: TOTAL NO. of ITERATIONS REACHED LIMIT\n",
      "\n",
      "Increase the number of iterations to improve the convergence (max_iter=1000).\n",
      "You might also want to scale the data as shown in:\n",
      "    https://scikit-learn.org/stable/modules/preprocessing.html\n",
      "Please also refer to the documentation for alternative solver options:\n",
      "    https://scikit-learn.org/stable/modules/linear_model.html#logistic-regression\n",
      "  n_iter_i = _check_optimize_result(\n",
      "c:\\Users\\Lenovo\\miniconda3\\Lib\\site-packages\\sklearn\\linear_model\\_logistic.py:473: ConvergenceWarning: lbfgs failed to converge after 1000 iteration(s) (status=1):\n",
      "STOP: TOTAL NO. of ITERATIONS REACHED LIMIT\n",
      "\n",
      "Increase the number of iterations to improve the convergence (max_iter=1000).\n",
      "You might also want to scale the data as shown in:\n",
      "    https://scikit-learn.org/stable/modules/preprocessing.html\n",
      "Please also refer to the documentation for alternative solver options:\n",
      "    https://scikit-learn.org/stable/modules/linear_model.html#logistic-regression\n",
      "  n_iter_i = _check_optimize_result(\n",
      "c:\\Users\\Lenovo\\miniconda3\\Lib\\site-packages\\sklearn\\linear_model\\_logistic.py:473: ConvergenceWarning: lbfgs failed to converge after 1000 iteration(s) (status=1):\n",
      "STOP: TOTAL NO. of ITERATIONS REACHED LIMIT\n",
      "\n",
      "Increase the number of iterations to improve the convergence (max_iter=1000).\n",
      "You might also want to scale the data as shown in:\n",
      "    https://scikit-learn.org/stable/modules/preprocessing.html\n",
      "Please also refer to the documentation for alternative solver options:\n",
      "    https://scikit-learn.org/stable/modules/linear_model.html#logistic-regression\n",
      "  n_iter_i = _check_optimize_result(\n"
     ]
    },
    {
     "name": "stdout",
     "output_type": "stream",
     "text": [
      "95% Confidence Interval: Lower = -0.8684929158856132, Upper = -0.7536710533904589\n"
     ]
    },
    {
     "name": "stderr",
     "output_type": "stream",
     "text": [
      "c:\\Users\\Lenovo\\miniconda3\\Lib\\site-packages\\sklearn\\linear_model\\_logistic.py:473: ConvergenceWarning: lbfgs failed to converge after 1000 iteration(s) (status=1):\n",
      "STOP: TOTAL NO. of ITERATIONS REACHED LIMIT\n",
      "\n",
      "Increase the number of iterations to improve the convergence (max_iter=1000).\n",
      "You might also want to scale the data as shown in:\n",
      "    https://scikit-learn.org/stable/modules/preprocessing.html\n",
      "Please also refer to the documentation for alternative solver options:\n",
      "    https://scikit-learn.org/stable/modules/linear_model.html#logistic-regression\n",
      "  n_iter_i = _check_optimize_result(\n"
     ]
    }
   ],
   "source": [
    "bootstrap_reses_ipw = {\"logist_reg_ipw\": bootstrap_confidence_interval_ipw(X_train_trimmed, y_train_trimmed, X_val_trimmed, y_val_trimmed)}"
   ]
  },
  {
   "cell_type": "code",
   "execution_count": 123,
   "id": "5365a349",
   "metadata": {},
   "outputs": [
    {
     "name": "stdout",
     "output_type": "stream",
     "text": [
      "Estimated ATE (IPW): -0.7666415082191288\n"
     ]
    }
   ],
   "source": [
    "temp_test_data = deepcopy(X_inference_trimmed)\n",
    "temp_test_data['propensity'] = propensity_model_reg.predict_proba(temp_test_data.drop(columns='T', inplace = False))[:,1]\n",
    "\n",
    "\n",
    "\n",
    "y1_weighted_estimate = np.sum(((temp_test_data['T'] == 1).astype(int) * y_inference_trimmed) / temp_test_data['propensity']) / np.sum(temp_test_data['T'] == 1)\n",
    "y0_weighted_estimate = np.sum(((temp_test_data['T'] == 0).astype(int) * y_inference_trimmed) / (1 - temp_test_data['propensity'])) / np.sum(temp_test_data['T'] == 0)\n",
    "\n",
    "print(f\"Estimated ATE (IPW): {y1_weighted_estimate - y0_weighted_estimate}\")"
   ]
  },
  {
   "cell_type": "markdown",
   "id": "945bccc6",
   "metadata": {},
   "source": [
    "# DR-Learner"
   ]
  },
  {
   "cell_type": "markdown",
   "id": "07930ab7",
   "metadata": {},
   "source": [
    "### T-Learner"
   ]
  },
  {
   "cell_type": "code",
   "execution_count": 142,
   "id": "dead911e",
   "metadata": {},
   "outputs": [],
   "source": [
    "def dr_estimator(row, potential_outcome):\n",
    "    estimated_outcome = row['y1_estimate'] if potential_outcome == 1 else row['y0_estimate']\n",
    "    if row['T'] == potential_outcome:\n",
    "        estimated_propensity = row['propensity'] if potential_outcome == 1 else 1 - row['propensity']\n",
    "        weighted_error = (row['Y'] - estimated_outcome)/ estimated_propensity\n",
    "        return estimated_outcome + weighted_error\n",
    "    else:\n",
    "        return estimated_outcome\n",
    "\n",
    "\n",
    "\n",
    "def bootstrap_confidence_interval_dr_t_learner(t_learner_outcome_model1, t_learner_outcome_model0, X_train, y_train, X_val, y_val):\n",
    "    np.random.seed(2025)\n",
    "    bootstrap_sample_size = 10000\n",
    "    bootstrap_sample_num = 20\n",
    "    alpha = 0.05\n",
    "    test_data  = pd.concat([X_val, y_val], axis=1)\n",
    "    t_learner_model_train_data = deepcopy(X_train) # notice that T is not included in learning\n",
    "    ate_estimates = []\n",
    "    # Bootstrap sampling and model fitting\n",
    "    for i in range(bootstrap_sample_num):\n",
    "        t_learner_outcome_model1 = t_learner_outcome_model1.get_model_no_train()\n",
    "        t_learner_outcome_model0 = t_learner_outcome_model0.get_model_no_train()\n",
    "        IPW_model = LogisticRegression(max_iter=1000, random_state=42) # best previously found propensity model\n",
    "        # Generate bootstrap indices\n",
    "        bootstrap_indices = np.random.choice(t_learner_model_train_data.index,\n",
    "                                            size=bootstrap_sample_size,\n",
    "                                            replace=True)\n",
    "        # Create the bootstrap sample using the indices\n",
    "        X_train_resampled = t_learner_model_train_data.loc[bootstrap_indices]\n",
    "        y_train_resampled = y_train.loc[bootstrap_indices]\n",
    "\n",
    "        # train separate model on treatment=1 data\n",
    "        X_train1_resampled = X_train_resampled[X_train_resampled['T'] == 1].drop(columns=['T'], inplace=False)\n",
    "        y_train1_resampled = y_train_resampled[X_train_resampled['T'] == 1]\n",
    "        t_learner_outcome_model1.fit(X_train1_resampled, y_train1_resampled)\n",
    "        # train separate model on treatment=0 data\n",
    "        X_train0_resampled = X_train_resampled[X_train_resampled['T'] == 0].drop(columns=['T'], inplace=False)\n",
    "        y_train0_resampled = y_train_resampled[X_train_resampled['T'] == 0]\n",
    "        t_learner_outcome_model0.fit(X_train0_resampled, y_train0_resampled)\n",
    "\n",
    "        # fit propensity model\n",
    "        IPW_model.fit(X_train_resampled.drop(columns=['T']), X_train_resampled['T'])\n",
    "        # get propensity on test\n",
    "        temp_test_data = deepcopy(test_data)\n",
    "        temp_test_data['propensity'] = IPW_model.predict_proba(temp_test_data[confounders])[:, 1]\n",
    "        temp_test_data['y1_estimate'] = t_learner_outcome_model1.predict(X_val.drop(columns=['T'], inplace=False))\n",
    "        temp_test_data['y0_estimate'] = t_learner_outcome_model0.predict(X_val.drop(columns=['T'], inplace=False))\n",
    "        temp_test_data['dr1_estimate'] = temp_test_data.apply(lambda x: dr_estimator(x, 1), axis=1)\n",
    "        temp_test_data['dr0_estimate'] = temp_test_data.apply(lambda x: dr_estimator(x, 0), axis=1)\n",
    "        ate_estimate = np.mean(temp_test_data['dr1_estimate'] - temp_test_data['dr0_estimate'])\n",
    "        ate_estimates.append(ate_estimate)\n",
    "\n",
    "    # Convert the list of estimates into a numpy array\n",
    "    dr_bootstrap_estimates = np.array(ate_estimates)\n",
    "\n",
    "    # Calculate the lower and upper percentiles to get the CI\n",
    "    dr_ci = np.percentile(dr_bootstrap_estimates, [100 * alpha / 2, 100 * (1 - alpha / 2)], axis=0)\n",
    "\n",
    "    # Print the confidence interval (for example, for the first prediction)\n",
    "    print(f\"95% Confidence Interval: Lower = {dr_ci[0]}, Upper = {dr_ci[1]}\")\n",
    "\n",
    "    return dr_ci, ate_estimates"
   ]
  },
  {
   "cell_type": "code",
   "execution_count": null,
   "id": "3b11cc6b",
   "metadata": {},
   "outputs": [
    {
     "name": "stderr",
     "output_type": "stream",
     "text": [
      "c:\\Users\\Lenovo\\miniconda3\\Lib\\site-packages\\sklearn\\linear_model\\_sag.py:348: ConvergenceWarning: The max_iter was reached which means the coef_ did not converge\n",
      "  warnings.warn(\n",
      "c:\\Users\\Lenovo\\miniconda3\\Lib\\site-packages\\sklearn\\linear_model\\_sag.py:348: ConvergenceWarning: The max_iter was reached which means the coef_ did not converge\n",
      "  warnings.warn(\n",
      "c:\\Users\\Lenovo\\miniconda3\\Lib\\site-packages\\sklearn\\linear_model\\_logistic.py:473: ConvergenceWarning: lbfgs failed to converge after 1000 iteration(s) (status=1):\n",
      "STOP: TOTAL NO. of ITERATIONS REACHED LIMIT\n",
      "\n",
      "Increase the number of iterations to improve the convergence (max_iter=1000).\n",
      "You might also want to scale the data as shown in:\n",
      "    https://scikit-learn.org/stable/modules/preprocessing.html\n",
      "Please also refer to the documentation for alternative solver options:\n",
      "    https://scikit-learn.org/stable/modules/linear_model.html#logistic-regression\n",
      "  n_iter_i = _check_optimize_result(\n",
      "c:\\Users\\Lenovo\\miniconda3\\Lib\\site-packages\\sklearn\\linear_model\\_sag.py:348: ConvergenceWarning: The max_iter was reached which means the coef_ did not converge\n",
      "  warnings.warn(\n",
      "c:\\Users\\Lenovo\\miniconda3\\Lib\\site-packages\\sklearn\\linear_model\\_sag.py:348: ConvergenceWarning: The max_iter was reached which means the coef_ did not converge\n",
      "  warnings.warn(\n",
      "c:\\Users\\Lenovo\\miniconda3\\Lib\\site-packages\\sklearn\\linear_model\\_logistic.py:473: ConvergenceWarning: lbfgs failed to converge after 1000 iteration(s) (status=1):\n",
      "STOP: TOTAL NO. of ITERATIONS REACHED LIMIT\n",
      "\n",
      "Increase the number of iterations to improve the convergence (max_iter=1000).\n",
      "You might also want to scale the data as shown in:\n",
      "    https://scikit-learn.org/stable/modules/preprocessing.html\n",
      "Please also refer to the documentation for alternative solver options:\n",
      "    https://scikit-learn.org/stable/modules/linear_model.html#logistic-regression\n",
      "  n_iter_i = _check_optimize_result(\n",
      "c:\\Users\\Lenovo\\miniconda3\\Lib\\site-packages\\sklearn\\linear_model\\_sag.py:348: ConvergenceWarning: The max_iter was reached which means the coef_ did not converge\n",
      "  warnings.warn(\n",
      "c:\\Users\\Lenovo\\miniconda3\\Lib\\site-packages\\sklearn\\linear_model\\_sag.py:348: ConvergenceWarning: The max_iter was reached which means the coef_ did not converge\n",
      "  warnings.warn(\n",
      "c:\\Users\\Lenovo\\miniconda3\\Lib\\site-packages\\sklearn\\linear_model\\_logistic.py:473: ConvergenceWarning: lbfgs failed to converge after 1000 iteration(s) (status=1):\n",
      "STOP: TOTAL NO. of ITERATIONS REACHED LIMIT\n",
      "\n",
      "Increase the number of iterations to improve the convergence (max_iter=1000).\n",
      "You might also want to scale the data as shown in:\n",
      "    https://scikit-learn.org/stable/modules/preprocessing.html\n",
      "Please also refer to the documentation for alternative solver options:\n",
      "    https://scikit-learn.org/stable/modules/linear_model.html#logistic-regression\n",
      "  n_iter_i = _check_optimize_result(\n",
      "c:\\Users\\Lenovo\\miniconda3\\Lib\\site-packages\\sklearn\\linear_model\\_sag.py:348: ConvergenceWarning: The max_iter was reached which means the coef_ did not converge\n",
      "  warnings.warn(\n",
      "c:\\Users\\Lenovo\\miniconda3\\Lib\\site-packages\\sklearn\\linear_model\\_sag.py:348: ConvergenceWarning: The max_iter was reached which means the coef_ did not converge\n",
      "  warnings.warn(\n",
      "c:\\Users\\Lenovo\\miniconda3\\Lib\\site-packages\\sklearn\\linear_model\\_logistic.py:473: ConvergenceWarning: lbfgs failed to converge after 1000 iteration(s) (status=1):\n",
      "STOP: TOTAL NO. of ITERATIONS REACHED LIMIT\n",
      "\n",
      "Increase the number of iterations to improve the convergence (max_iter=1000).\n",
      "You might also want to scale the data as shown in:\n",
      "    https://scikit-learn.org/stable/modules/preprocessing.html\n",
      "Please also refer to the documentation for alternative solver options:\n",
      "    https://scikit-learn.org/stable/modules/linear_model.html#logistic-regression\n",
      "  n_iter_i = _check_optimize_result(\n",
      "c:\\Users\\Lenovo\\miniconda3\\Lib\\site-packages\\sklearn\\linear_model\\_sag.py:348: ConvergenceWarning: The max_iter was reached which means the coef_ did not converge\n",
      "  warnings.warn(\n",
      "c:\\Users\\Lenovo\\miniconda3\\Lib\\site-packages\\sklearn\\linear_model\\_sag.py:348: ConvergenceWarning: The max_iter was reached which means the coef_ did not converge\n",
      "  warnings.warn(\n",
      "c:\\Users\\Lenovo\\miniconda3\\Lib\\site-packages\\sklearn\\linear_model\\_logistic.py:473: ConvergenceWarning: lbfgs failed to converge after 1000 iteration(s) (status=1):\n",
      "STOP: TOTAL NO. of ITERATIONS REACHED LIMIT\n",
      "\n",
      "Increase the number of iterations to improve the convergence (max_iter=1000).\n",
      "You might also want to scale the data as shown in:\n",
      "    https://scikit-learn.org/stable/modules/preprocessing.html\n",
      "Please also refer to the documentation for alternative solver options:\n",
      "    https://scikit-learn.org/stable/modules/linear_model.html#logistic-regression\n",
      "  n_iter_i = _check_optimize_result(\n",
      "c:\\Users\\Lenovo\\miniconda3\\Lib\\site-packages\\sklearn\\linear_model\\_sag.py:348: ConvergenceWarning: The max_iter was reached which means the coef_ did not converge\n",
      "  warnings.warn(\n",
      "c:\\Users\\Lenovo\\miniconda3\\Lib\\site-packages\\sklearn\\linear_model\\_sag.py:348: ConvergenceWarning: The max_iter was reached which means the coef_ did not converge\n",
      "  warnings.warn(\n",
      "c:\\Users\\Lenovo\\miniconda3\\Lib\\site-packages\\sklearn\\linear_model\\_logistic.py:473: ConvergenceWarning: lbfgs failed to converge after 1000 iteration(s) (status=1):\n",
      "STOP: TOTAL NO. of ITERATIONS REACHED LIMIT\n",
      "\n",
      "Increase the number of iterations to improve the convergence (max_iter=1000).\n",
      "You might also want to scale the data as shown in:\n",
      "    https://scikit-learn.org/stable/modules/preprocessing.html\n",
      "Please also refer to the documentation for alternative solver options:\n",
      "    https://scikit-learn.org/stable/modules/linear_model.html#logistic-regression\n",
      "  n_iter_i = _check_optimize_result(\n",
      "c:\\Users\\Lenovo\\miniconda3\\Lib\\site-packages\\sklearn\\linear_model\\_sag.py:348: ConvergenceWarning: The max_iter was reached which means the coef_ did not converge\n",
      "  warnings.warn(\n",
      "c:\\Users\\Lenovo\\miniconda3\\Lib\\site-packages\\sklearn\\linear_model\\_sag.py:348: ConvergenceWarning: The max_iter was reached which means the coef_ did not converge\n",
      "  warnings.warn(\n",
      "c:\\Users\\Lenovo\\miniconda3\\Lib\\site-packages\\sklearn\\linear_model\\_logistic.py:473: ConvergenceWarning: lbfgs failed to converge after 1000 iteration(s) (status=1):\n",
      "STOP: TOTAL NO. of ITERATIONS REACHED LIMIT\n",
      "\n",
      "Increase the number of iterations to improve the convergence (max_iter=1000).\n",
      "You might also want to scale the data as shown in:\n",
      "    https://scikit-learn.org/stable/modules/preprocessing.html\n",
      "Please also refer to the documentation for alternative solver options:\n",
      "    https://scikit-learn.org/stable/modules/linear_model.html#logistic-regression\n",
      "  n_iter_i = _check_optimize_result(\n",
      "c:\\Users\\Lenovo\\miniconda3\\Lib\\site-packages\\sklearn\\linear_model\\_sag.py:348: ConvergenceWarning: The max_iter was reached which means the coef_ did not converge\n",
      "  warnings.warn(\n",
      "c:\\Users\\Lenovo\\miniconda3\\Lib\\site-packages\\sklearn\\linear_model\\_sag.py:348: ConvergenceWarning: The max_iter was reached which means the coef_ did not converge\n",
      "  warnings.warn(\n",
      "c:\\Users\\Lenovo\\miniconda3\\Lib\\site-packages\\sklearn\\linear_model\\_logistic.py:473: ConvergenceWarning: lbfgs failed to converge after 1000 iteration(s) (status=1):\n",
      "STOP: TOTAL NO. of ITERATIONS REACHED LIMIT\n",
      "\n",
      "Increase the number of iterations to improve the convergence (max_iter=1000).\n",
      "You might also want to scale the data as shown in:\n",
      "    https://scikit-learn.org/stable/modules/preprocessing.html\n",
      "Please also refer to the documentation for alternative solver options:\n",
      "    https://scikit-learn.org/stable/modules/linear_model.html#logistic-regression\n",
      "  n_iter_i = _check_optimize_result(\n",
      "c:\\Users\\Lenovo\\miniconda3\\Lib\\site-packages\\sklearn\\linear_model\\_sag.py:348: ConvergenceWarning: The max_iter was reached which means the coef_ did not converge\n",
      "  warnings.warn(\n",
      "c:\\Users\\Lenovo\\miniconda3\\Lib\\site-packages\\sklearn\\linear_model\\_sag.py:348: ConvergenceWarning: The max_iter was reached which means the coef_ did not converge\n",
      "  warnings.warn(\n",
      "c:\\Users\\Lenovo\\miniconda3\\Lib\\site-packages\\sklearn\\linear_model\\_logistic.py:473: ConvergenceWarning: lbfgs failed to converge after 1000 iteration(s) (status=1):\n",
      "STOP: TOTAL NO. of ITERATIONS REACHED LIMIT\n",
      "\n",
      "Increase the number of iterations to improve the convergence (max_iter=1000).\n",
      "You might also want to scale the data as shown in:\n",
      "    https://scikit-learn.org/stable/modules/preprocessing.html\n",
      "Please also refer to the documentation for alternative solver options:\n",
      "    https://scikit-learn.org/stable/modules/linear_model.html#logistic-regression\n",
      "  n_iter_i = _check_optimize_result(\n",
      "c:\\Users\\Lenovo\\miniconda3\\Lib\\site-packages\\sklearn\\linear_model\\_sag.py:348: ConvergenceWarning: The max_iter was reached which means the coef_ did not converge\n",
      "  warnings.warn(\n",
      "c:\\Users\\Lenovo\\miniconda3\\Lib\\site-packages\\sklearn\\linear_model\\_sag.py:348: ConvergenceWarning: The max_iter was reached which means the coef_ did not converge\n",
      "  warnings.warn(\n",
      "c:\\Users\\Lenovo\\miniconda3\\Lib\\site-packages\\sklearn\\linear_model\\_logistic.py:473: ConvergenceWarning: lbfgs failed to converge after 1000 iteration(s) (status=1):\n",
      "STOP: TOTAL NO. of ITERATIONS REACHED LIMIT\n",
      "\n",
      "Increase the number of iterations to improve the convergence (max_iter=1000).\n",
      "You might also want to scale the data as shown in:\n",
      "    https://scikit-learn.org/stable/modules/preprocessing.html\n",
      "Please also refer to the documentation for alternative solver options:\n",
      "    https://scikit-learn.org/stable/modules/linear_model.html#logistic-regression\n",
      "  n_iter_i = _check_optimize_result(\n",
      "c:\\Users\\Lenovo\\miniconda3\\Lib\\site-packages\\sklearn\\linear_model\\_sag.py:348: ConvergenceWarning: The max_iter was reached which means the coef_ did not converge\n",
      "  warnings.warn(\n",
      "c:\\Users\\Lenovo\\miniconda3\\Lib\\site-packages\\sklearn\\linear_model\\_sag.py:348: ConvergenceWarning: The max_iter was reached which means the coef_ did not converge\n",
      "  warnings.warn(\n",
      "c:\\Users\\Lenovo\\miniconda3\\Lib\\site-packages\\sklearn\\linear_model\\_logistic.py:473: ConvergenceWarning: lbfgs failed to converge after 1000 iteration(s) (status=1):\n",
      "STOP: TOTAL NO. of ITERATIONS REACHED LIMIT\n",
      "\n",
      "Increase the number of iterations to improve the convergence (max_iter=1000).\n",
      "You might also want to scale the data as shown in:\n",
      "    https://scikit-learn.org/stable/modules/preprocessing.html\n",
      "Please also refer to the documentation for alternative solver options:\n",
      "    https://scikit-learn.org/stable/modules/linear_model.html#logistic-regression\n",
      "  n_iter_i = _check_optimize_result(\n",
      "c:\\Users\\Lenovo\\miniconda3\\Lib\\site-packages\\sklearn\\linear_model\\_sag.py:348: ConvergenceWarning: The max_iter was reached which means the coef_ did not converge\n",
      "  warnings.warn(\n",
      "c:\\Users\\Lenovo\\miniconda3\\Lib\\site-packages\\sklearn\\linear_model\\_sag.py:348: ConvergenceWarning: The max_iter was reached which means the coef_ did not converge\n",
      "  warnings.warn(\n",
      "c:\\Users\\Lenovo\\miniconda3\\Lib\\site-packages\\sklearn\\linear_model\\_logistic.py:473: ConvergenceWarning: lbfgs failed to converge after 1000 iteration(s) (status=1):\n",
      "STOP: TOTAL NO. of ITERATIONS REACHED LIMIT\n",
      "\n",
      "Increase the number of iterations to improve the convergence (max_iter=1000).\n",
      "You might also want to scale the data as shown in:\n",
      "    https://scikit-learn.org/stable/modules/preprocessing.html\n",
      "Please also refer to the documentation for alternative solver options:\n",
      "    https://scikit-learn.org/stable/modules/linear_model.html#logistic-regression\n",
      "  n_iter_i = _check_optimize_result(\n",
      "c:\\Users\\Lenovo\\miniconda3\\Lib\\site-packages\\sklearn\\linear_model\\_sag.py:348: ConvergenceWarning: The max_iter was reached which means the coef_ did not converge\n",
      "  warnings.warn(\n",
      "c:\\Users\\Lenovo\\miniconda3\\Lib\\site-packages\\sklearn\\linear_model\\_sag.py:348: ConvergenceWarning: The max_iter was reached which means the coef_ did not converge\n",
      "  warnings.warn(\n",
      "c:\\Users\\Lenovo\\miniconda3\\Lib\\site-packages\\sklearn\\linear_model\\_logistic.py:473: ConvergenceWarning: lbfgs failed to converge after 1000 iteration(s) (status=1):\n",
      "STOP: TOTAL NO. of ITERATIONS REACHED LIMIT\n",
      "\n",
      "Increase the number of iterations to improve the convergence (max_iter=1000).\n",
      "You might also want to scale the data as shown in:\n",
      "    https://scikit-learn.org/stable/modules/preprocessing.html\n",
      "Please also refer to the documentation for alternative solver options:\n",
      "    https://scikit-learn.org/stable/modules/linear_model.html#logistic-regression\n",
      "  n_iter_i = _check_optimize_result(\n",
      "c:\\Users\\Lenovo\\miniconda3\\Lib\\site-packages\\sklearn\\linear_model\\_sag.py:348: ConvergenceWarning: The max_iter was reached which means the coef_ did not converge\n",
      "  warnings.warn(\n",
      "c:\\Users\\Lenovo\\miniconda3\\Lib\\site-packages\\sklearn\\linear_model\\_sag.py:348: ConvergenceWarning: The max_iter was reached which means the coef_ did not converge\n",
      "  warnings.warn(\n",
      "c:\\Users\\Lenovo\\miniconda3\\Lib\\site-packages\\sklearn\\linear_model\\_logistic.py:473: ConvergenceWarning: lbfgs failed to converge after 1000 iteration(s) (status=1):\n",
      "STOP: TOTAL NO. of ITERATIONS REACHED LIMIT\n",
      "\n",
      "Increase the number of iterations to improve the convergence (max_iter=1000).\n",
      "You might also want to scale the data as shown in:\n",
      "    https://scikit-learn.org/stable/modules/preprocessing.html\n",
      "Please also refer to the documentation for alternative solver options:\n",
      "    https://scikit-learn.org/stable/modules/linear_model.html#logistic-regression\n",
      "  n_iter_i = _check_optimize_result(\n",
      "c:\\Users\\Lenovo\\miniconda3\\Lib\\site-packages\\sklearn\\linear_model\\_sag.py:348: ConvergenceWarning: The max_iter was reached which means the coef_ did not converge\n",
      "  warnings.warn(\n",
      "c:\\Users\\Lenovo\\miniconda3\\Lib\\site-packages\\sklearn\\linear_model\\_sag.py:348: ConvergenceWarning: The max_iter was reached which means the coef_ did not converge\n",
      "  warnings.warn(\n",
      "c:\\Users\\Lenovo\\miniconda3\\Lib\\site-packages\\sklearn\\linear_model\\_logistic.py:473: ConvergenceWarning: lbfgs failed to converge after 1000 iteration(s) (status=1):\n",
      "STOP: TOTAL NO. of ITERATIONS REACHED LIMIT\n",
      "\n",
      "Increase the number of iterations to improve the convergence (max_iter=1000).\n",
      "You might also want to scale the data as shown in:\n",
      "    https://scikit-learn.org/stable/modules/preprocessing.html\n",
      "Please also refer to the documentation for alternative solver options:\n",
      "    https://scikit-learn.org/stable/modules/linear_model.html#logistic-regression\n",
      "  n_iter_i = _check_optimize_result(\n",
      "c:\\Users\\Lenovo\\miniconda3\\Lib\\site-packages\\sklearn\\linear_model\\_sag.py:348: ConvergenceWarning: The max_iter was reached which means the coef_ did not converge\n",
      "  warnings.warn(\n",
      "c:\\Users\\Lenovo\\miniconda3\\Lib\\site-packages\\sklearn\\linear_model\\_sag.py:348: ConvergenceWarning: The max_iter was reached which means the coef_ did not converge\n",
      "  warnings.warn(\n",
      "c:\\Users\\Lenovo\\miniconda3\\Lib\\site-packages\\sklearn\\linear_model\\_logistic.py:473: ConvergenceWarning: lbfgs failed to converge after 1000 iteration(s) (status=1):\n",
      "STOP: TOTAL NO. of ITERATIONS REACHED LIMIT\n",
      "\n",
      "Increase the number of iterations to improve the convergence (max_iter=1000).\n",
      "You might also want to scale the data as shown in:\n",
      "    https://scikit-learn.org/stable/modules/preprocessing.html\n",
      "Please also refer to the documentation for alternative solver options:\n",
      "    https://scikit-learn.org/stable/modules/linear_model.html#logistic-regression\n",
      "  n_iter_i = _check_optimize_result(\n",
      "c:\\Users\\Lenovo\\miniconda3\\Lib\\site-packages\\sklearn\\linear_model\\_sag.py:348: ConvergenceWarning: The max_iter was reached which means the coef_ did not converge\n",
      "  warnings.warn(\n",
      "c:\\Users\\Lenovo\\miniconda3\\Lib\\site-packages\\sklearn\\linear_model\\_sag.py:348: ConvergenceWarning: The max_iter was reached which means the coef_ did not converge\n",
      "  warnings.warn(\n",
      "c:\\Users\\Lenovo\\miniconda3\\Lib\\site-packages\\sklearn\\linear_model\\_logistic.py:473: ConvergenceWarning: lbfgs failed to converge after 1000 iteration(s) (status=1):\n",
      "STOP: TOTAL NO. of ITERATIONS REACHED LIMIT\n",
      "\n",
      "Increase the number of iterations to improve the convergence (max_iter=1000).\n",
      "You might also want to scale the data as shown in:\n",
      "    https://scikit-learn.org/stable/modules/preprocessing.html\n",
      "Please also refer to the documentation for alternative solver options:\n",
      "    https://scikit-learn.org/stable/modules/linear_model.html#logistic-regression\n",
      "  n_iter_i = _check_optimize_result(\n",
      "c:\\Users\\Lenovo\\miniconda3\\Lib\\site-packages\\sklearn\\linear_model\\_sag.py:348: ConvergenceWarning: The max_iter was reached which means the coef_ did not converge\n",
      "  warnings.warn(\n",
      "c:\\Users\\Lenovo\\miniconda3\\Lib\\site-packages\\sklearn\\linear_model\\_sag.py:348: ConvergenceWarning: The max_iter was reached which means the coef_ did not converge\n",
      "  warnings.warn(\n",
      "c:\\Users\\Lenovo\\miniconda3\\Lib\\site-packages\\sklearn\\linear_model\\_logistic.py:473: ConvergenceWarning: lbfgs failed to converge after 1000 iteration(s) (status=1):\n",
      "STOP: TOTAL NO. of ITERATIONS REACHED LIMIT\n",
      "\n",
      "Increase the number of iterations to improve the convergence (max_iter=1000).\n",
      "You might also want to scale the data as shown in:\n",
      "    https://scikit-learn.org/stable/modules/preprocessing.html\n",
      "Please also refer to the documentation for alternative solver options:\n",
      "    https://scikit-learn.org/stable/modules/linear_model.html#logistic-regression\n",
      "  n_iter_i = _check_optimize_result(\n",
      "c:\\Users\\Lenovo\\miniconda3\\Lib\\site-packages\\sklearn\\linear_model\\_sag.py:348: ConvergenceWarning: The max_iter was reached which means the coef_ did not converge\n",
      "  warnings.warn(\n",
      "c:\\Users\\Lenovo\\miniconda3\\Lib\\site-packages\\sklearn\\linear_model\\_sag.py:348: ConvergenceWarning: The max_iter was reached which means the coef_ did not converge\n",
      "  warnings.warn(\n",
      "c:\\Users\\Lenovo\\miniconda3\\Lib\\site-packages\\sklearn\\linear_model\\_logistic.py:473: ConvergenceWarning: lbfgs failed to converge after 1000 iteration(s) (status=1):\n",
      "STOP: TOTAL NO. of ITERATIONS REACHED LIMIT\n",
      "\n",
      "Increase the number of iterations to improve the convergence (max_iter=1000).\n",
      "You might also want to scale the data as shown in:\n",
      "    https://scikit-learn.org/stable/modules/preprocessing.html\n",
      "Please also refer to the documentation for alternative solver options:\n",
      "    https://scikit-learn.org/stable/modules/linear_model.html#logistic-regression\n",
      "  n_iter_i = _check_optimize_result(\n",
      "c:\\Users\\Lenovo\\miniconda3\\Lib\\site-packages\\sklearn\\linear_model\\_sag.py:348: ConvergenceWarning: The max_iter was reached which means the coef_ did not converge\n",
      "  warnings.warn(\n",
      "c:\\Users\\Lenovo\\miniconda3\\Lib\\site-packages\\sklearn\\linear_model\\_sag.py:348: ConvergenceWarning: The max_iter was reached which means the coef_ did not converge\n",
      "  warnings.warn(\n",
      "c:\\Users\\Lenovo\\miniconda3\\Lib\\site-packages\\sklearn\\linear_model\\_logistic.py:473: ConvergenceWarning: lbfgs failed to converge after 1000 iteration(s) (status=1):\n",
      "STOP: TOTAL NO. of ITERATIONS REACHED LIMIT\n",
      "\n",
      "Increase the number of iterations to improve the convergence (max_iter=1000).\n",
      "You might also want to scale the data as shown in:\n",
      "    https://scikit-learn.org/stable/modules/preprocessing.html\n",
      "Please also refer to the documentation for alternative solver options:\n",
      "    https://scikit-learn.org/stable/modules/linear_model.html#logistic-regression\n",
      "  n_iter_i = _check_optimize_result(\n"
     ]
    },
    {
     "name": "stdout",
     "output_type": "stream",
     "text": [
      "95% Confidence Interval: Lower = -0.06755761417140956, Upper = -0.04563570999592733\n"
     ]
    },
    {
     "name": "stderr",
     "output_type": "stream",
     "text": [
      "c:\\Users\\Lenovo\\miniconda3\\Lib\\site-packages\\sklearn\\linear_model\\_logistic.py:473: ConvergenceWarning: lbfgs failed to converge after 1000 iteration(s) (status=1):\n",
      "STOP: TOTAL NO. of ITERATIONS REACHED LIMIT\n",
      "\n",
      "Increase the number of iterations to improve the convergence (max_iter=1000).\n",
      "You might also want to scale the data as shown in:\n",
      "    https://scikit-learn.org/stable/modules/preprocessing.html\n",
      "Please also refer to the documentation for alternative solver options:\n",
      "    https://scikit-learn.org/stable/modules/linear_model.html#logistic-regression\n",
      "  n_iter_i = _check_optimize_result(\n",
      "c:\\Users\\Lenovo\\miniconda3\\Lib\\site-packages\\sklearn\\linear_model\\_logistic.py:473: ConvergenceWarning: lbfgs failed to converge after 1000 iteration(s) (status=1):\n",
      "STOP: TOTAL NO. of ITERATIONS REACHED LIMIT\n",
      "\n",
      "Increase the number of iterations to improve the convergence (max_iter=1000).\n",
      "You might also want to scale the data as shown in:\n",
      "    https://scikit-learn.org/stable/modules/preprocessing.html\n",
      "Please also refer to the documentation for alternative solver options:\n",
      "    https://scikit-learn.org/stable/modules/linear_model.html#logistic-regression\n",
      "  n_iter_i = _check_optimize_result(\n",
      "c:\\Users\\Lenovo\\miniconda3\\Lib\\site-packages\\sklearn\\linear_model\\_logistic.py:473: ConvergenceWarning: lbfgs failed to converge after 1000 iteration(s) (status=1):\n",
      "STOP: TOTAL NO. of ITERATIONS REACHED LIMIT\n",
      "\n",
      "Increase the number of iterations to improve the convergence (max_iter=1000).\n",
      "You might also want to scale the data as shown in:\n",
      "    https://scikit-learn.org/stable/modules/preprocessing.html\n",
      "Please also refer to the documentation for alternative solver options:\n",
      "    https://scikit-learn.org/stable/modules/linear_model.html#logistic-regression\n",
      "  n_iter_i = _check_optimize_result(\n",
      "c:\\Users\\Lenovo\\miniconda3\\Lib\\site-packages\\sklearn\\linear_model\\_logistic.py:473: ConvergenceWarning: lbfgs failed to converge after 1000 iteration(s) (status=1):\n",
      "STOP: TOTAL NO. of ITERATIONS REACHED LIMIT\n",
      "\n",
      "Increase the number of iterations to improve the convergence (max_iter=1000).\n",
      "You might also want to scale the data as shown in:\n",
      "    https://scikit-learn.org/stable/modules/preprocessing.html\n",
      "Please also refer to the documentation for alternative solver options:\n",
      "    https://scikit-learn.org/stable/modules/linear_model.html#logistic-regression\n",
      "  n_iter_i = _check_optimize_result(\n",
      "c:\\Users\\Lenovo\\miniconda3\\Lib\\site-packages\\sklearn\\linear_model\\_logistic.py:473: ConvergenceWarning: lbfgs failed to converge after 1000 iteration(s) (status=1):\n",
      "STOP: TOTAL NO. of ITERATIONS REACHED LIMIT\n",
      "\n",
      "Increase the number of iterations to improve the convergence (max_iter=1000).\n",
      "You might also want to scale the data as shown in:\n",
      "    https://scikit-learn.org/stable/modules/preprocessing.html\n",
      "Please also refer to the documentation for alternative solver options:\n",
      "    https://scikit-learn.org/stable/modules/linear_model.html#logistic-regression\n",
      "  n_iter_i = _check_optimize_result(\n",
      "c:\\Users\\Lenovo\\miniconda3\\Lib\\site-packages\\sklearn\\linear_model\\_logistic.py:473: ConvergenceWarning: lbfgs failed to converge after 1000 iteration(s) (status=1):\n",
      "STOP: TOTAL NO. of ITERATIONS REACHED LIMIT\n",
      "\n",
      "Increase the number of iterations to improve the convergence (max_iter=1000).\n",
      "You might also want to scale the data as shown in:\n",
      "    https://scikit-learn.org/stable/modules/preprocessing.html\n",
      "Please also refer to the documentation for alternative solver options:\n",
      "    https://scikit-learn.org/stable/modules/linear_model.html#logistic-regression\n",
      "  n_iter_i = _check_optimize_result(\n",
      "c:\\Users\\Lenovo\\miniconda3\\Lib\\site-packages\\sklearn\\linear_model\\_logistic.py:473: ConvergenceWarning: lbfgs failed to converge after 1000 iteration(s) (status=1):\n",
      "STOP: TOTAL NO. of ITERATIONS REACHED LIMIT\n",
      "\n",
      "Increase the number of iterations to improve the convergence (max_iter=1000).\n",
      "You might also want to scale the data as shown in:\n",
      "    https://scikit-learn.org/stable/modules/preprocessing.html\n",
      "Please also refer to the documentation for alternative solver options:\n",
      "    https://scikit-learn.org/stable/modules/linear_model.html#logistic-regression\n",
      "  n_iter_i = _check_optimize_result(\n",
      "c:\\Users\\Lenovo\\miniconda3\\Lib\\site-packages\\sklearn\\linear_model\\_logistic.py:473: ConvergenceWarning: lbfgs failed to converge after 1000 iteration(s) (status=1):\n",
      "STOP: TOTAL NO. of ITERATIONS REACHED LIMIT\n",
      "\n",
      "Increase the number of iterations to improve the convergence (max_iter=1000).\n",
      "You might also want to scale the data as shown in:\n",
      "    https://scikit-learn.org/stable/modules/preprocessing.html\n",
      "Please also refer to the documentation for alternative solver options:\n",
      "    https://scikit-learn.org/stable/modules/linear_model.html#logistic-regression\n",
      "  n_iter_i = _check_optimize_result(\n",
      "c:\\Users\\Lenovo\\miniconda3\\Lib\\site-packages\\sklearn\\linear_model\\_logistic.py:473: ConvergenceWarning: lbfgs failed to converge after 1000 iteration(s) (status=1):\n",
      "STOP: TOTAL NO. of ITERATIONS REACHED LIMIT\n",
      "\n",
      "Increase the number of iterations to improve the convergence (max_iter=1000).\n",
      "You might also want to scale the data as shown in:\n",
      "    https://scikit-learn.org/stable/modules/preprocessing.html\n",
      "Please also refer to the documentation for alternative solver options:\n",
      "    https://scikit-learn.org/stable/modules/linear_model.html#logistic-regression\n",
      "  n_iter_i = _check_optimize_result(\n",
      "c:\\Users\\Lenovo\\miniconda3\\Lib\\site-packages\\sklearn\\linear_model\\_logistic.py:473: ConvergenceWarning: lbfgs failed to converge after 1000 iteration(s) (status=1):\n",
      "STOP: TOTAL NO. of ITERATIONS REACHED LIMIT\n",
      "\n",
      "Increase the number of iterations to improve the convergence (max_iter=1000).\n",
      "You might also want to scale the data as shown in:\n",
      "    https://scikit-learn.org/stable/modules/preprocessing.html\n",
      "Please also refer to the documentation for alternative solver options:\n",
      "    https://scikit-learn.org/stable/modules/linear_model.html#logistic-regression\n",
      "  n_iter_i = _check_optimize_result(\n",
      "c:\\Users\\Lenovo\\miniconda3\\Lib\\site-packages\\sklearn\\linear_model\\_logistic.py:473: ConvergenceWarning: lbfgs failed to converge after 1000 iteration(s) (status=1):\n",
      "STOP: TOTAL NO. of ITERATIONS REACHED LIMIT\n",
      "\n",
      "Increase the number of iterations to improve the convergence (max_iter=1000).\n",
      "You might also want to scale the data as shown in:\n",
      "    https://scikit-learn.org/stable/modules/preprocessing.html\n",
      "Please also refer to the documentation for alternative solver options:\n",
      "    https://scikit-learn.org/stable/modules/linear_model.html#logistic-regression\n",
      "  n_iter_i = _check_optimize_result(\n",
      "c:\\Users\\Lenovo\\miniconda3\\Lib\\site-packages\\sklearn\\linear_model\\_logistic.py:473: ConvergenceWarning: lbfgs failed to converge after 1000 iteration(s) (status=1):\n",
      "STOP: TOTAL NO. of ITERATIONS REACHED LIMIT\n",
      "\n",
      "Increase the number of iterations to improve the convergence (max_iter=1000).\n",
      "You might also want to scale the data as shown in:\n",
      "    https://scikit-learn.org/stable/modules/preprocessing.html\n",
      "Please also refer to the documentation for alternative solver options:\n",
      "    https://scikit-learn.org/stable/modules/linear_model.html#logistic-regression\n",
      "  n_iter_i = _check_optimize_result(\n",
      "c:\\Users\\Lenovo\\miniconda3\\Lib\\site-packages\\sklearn\\linear_model\\_logistic.py:473: ConvergenceWarning: lbfgs failed to converge after 1000 iteration(s) (status=1):\n",
      "STOP: TOTAL NO. of ITERATIONS REACHED LIMIT\n",
      "\n",
      "Increase the number of iterations to improve the convergence (max_iter=1000).\n",
      "You might also want to scale the data as shown in:\n",
      "    https://scikit-learn.org/stable/modules/preprocessing.html\n",
      "Please also refer to the documentation for alternative solver options:\n",
      "    https://scikit-learn.org/stable/modules/linear_model.html#logistic-regression\n",
      "  n_iter_i = _check_optimize_result(\n",
      "c:\\Users\\Lenovo\\miniconda3\\Lib\\site-packages\\sklearn\\linear_model\\_logistic.py:473: ConvergenceWarning: lbfgs failed to converge after 1000 iteration(s) (status=1):\n",
      "STOP: TOTAL NO. of ITERATIONS REACHED LIMIT\n",
      "\n",
      "Increase the number of iterations to improve the convergence (max_iter=1000).\n",
      "You might also want to scale the data as shown in:\n",
      "    https://scikit-learn.org/stable/modules/preprocessing.html\n",
      "Please also refer to the documentation for alternative solver options:\n",
      "    https://scikit-learn.org/stable/modules/linear_model.html#logistic-regression\n",
      "  n_iter_i = _check_optimize_result(\n",
      "c:\\Users\\Lenovo\\miniconda3\\Lib\\site-packages\\sklearn\\linear_model\\_logistic.py:473: ConvergenceWarning: lbfgs failed to converge after 1000 iteration(s) (status=1):\n",
      "STOP: TOTAL NO. of ITERATIONS REACHED LIMIT\n",
      "\n",
      "Increase the number of iterations to improve the convergence (max_iter=1000).\n",
      "You might also want to scale the data as shown in:\n",
      "    https://scikit-learn.org/stable/modules/preprocessing.html\n",
      "Please also refer to the documentation for alternative solver options:\n",
      "    https://scikit-learn.org/stable/modules/linear_model.html#logistic-regression\n",
      "  n_iter_i = _check_optimize_result(\n",
      "c:\\Users\\Lenovo\\miniconda3\\Lib\\site-packages\\sklearn\\linear_model\\_logistic.py:473: ConvergenceWarning: lbfgs failed to converge after 1000 iteration(s) (status=1):\n",
      "STOP: TOTAL NO. of ITERATIONS REACHED LIMIT\n",
      "\n",
      "Increase the number of iterations to improve the convergence (max_iter=1000).\n",
      "You might also want to scale the data as shown in:\n",
      "    https://scikit-learn.org/stable/modules/preprocessing.html\n",
      "Please also refer to the documentation for alternative solver options:\n",
      "    https://scikit-learn.org/stable/modules/linear_model.html#logistic-regression\n",
      "  n_iter_i = _check_optimize_result(\n",
      "c:\\Users\\Lenovo\\miniconda3\\Lib\\site-packages\\sklearn\\linear_model\\_logistic.py:473: ConvergenceWarning: lbfgs failed to converge after 1000 iteration(s) (status=1):\n",
      "STOP: TOTAL NO. of ITERATIONS REACHED LIMIT\n",
      "\n",
      "Increase the number of iterations to improve the convergence (max_iter=1000).\n",
      "You might also want to scale the data as shown in:\n",
      "    https://scikit-learn.org/stable/modules/preprocessing.html\n",
      "Please also refer to the documentation for alternative solver options:\n",
      "    https://scikit-learn.org/stable/modules/linear_model.html#logistic-regression\n",
      "  n_iter_i = _check_optimize_result(\n",
      "c:\\Users\\Lenovo\\miniconda3\\Lib\\site-packages\\sklearn\\linear_model\\_logistic.py:473: ConvergenceWarning: lbfgs failed to converge after 1000 iteration(s) (status=1):\n",
      "STOP: TOTAL NO. of ITERATIONS REACHED LIMIT\n",
      "\n",
      "Increase the number of iterations to improve the convergence (max_iter=1000).\n",
      "You might also want to scale the data as shown in:\n",
      "    https://scikit-learn.org/stable/modules/preprocessing.html\n",
      "Please also refer to the documentation for alternative solver options:\n",
      "    https://scikit-learn.org/stable/modules/linear_model.html#logistic-regression\n",
      "  n_iter_i = _check_optimize_result(\n",
      "c:\\Users\\Lenovo\\miniconda3\\Lib\\site-packages\\sklearn\\linear_model\\_logistic.py:473: ConvergenceWarning: lbfgs failed to converge after 1000 iteration(s) (status=1):\n",
      "STOP: TOTAL NO. of ITERATIONS REACHED LIMIT\n",
      "\n",
      "Increase the number of iterations to improve the convergence (max_iter=1000).\n",
      "You might also want to scale the data as shown in:\n",
      "    https://scikit-learn.org/stable/modules/preprocessing.html\n",
      "Please also refer to the documentation for alternative solver options:\n",
      "    https://scikit-learn.org/stable/modules/linear_model.html#logistic-regression\n",
      "  n_iter_i = _check_optimize_result(\n",
      "c:\\Users\\Lenovo\\miniconda3\\Lib\\site-packages\\sklearn\\linear_model\\_logistic.py:473: ConvergenceWarning: lbfgs failed to converge after 1000 iteration(s) (status=1):\n",
      "STOP: TOTAL NO. of ITERATIONS REACHED LIMIT\n",
      "\n",
      "Increase the number of iterations to improve the convergence (max_iter=1000).\n",
      "You might also want to scale the data as shown in:\n",
      "    https://scikit-learn.org/stable/modules/preprocessing.html\n",
      "Please also refer to the documentation for alternative solver options:\n",
      "    https://scikit-learn.org/stable/modules/linear_model.html#logistic-regression\n",
      "  n_iter_i = _check_optimize_result(\n"
     ]
    },
    {
     "name": "stdout",
     "output_type": "stream",
     "text": [
      "95% Confidence Interval: Lower = -0.044450429535144075, Upper = -0.03199637834170057\n"
     ]
    },
    {
     "name": "stderr",
     "output_type": "stream",
     "text": [
      "c:\\Users\\Lenovo\\miniconda3\\Lib\\site-packages\\sklearn\\linear_model\\_logistic.py:473: ConvergenceWarning: lbfgs failed to converge after 1000 iteration(s) (status=1):\n",
      "STOP: TOTAL NO. of ITERATIONS REACHED LIMIT\n",
      "\n",
      "Increase the number of iterations to improve the convergence (max_iter=1000).\n",
      "You might also want to scale the data as shown in:\n",
      "    https://scikit-learn.org/stable/modules/preprocessing.html\n",
      "Please also refer to the documentation for alternative solver options:\n",
      "    https://scikit-learn.org/stable/modules/linear_model.html#logistic-regression\n",
      "  n_iter_i = _check_optimize_result(\n",
      "c:\\Users\\Lenovo\\miniconda3\\Lib\\site-packages\\sklearn\\linear_model\\_logistic.py:473: ConvergenceWarning: lbfgs failed to converge after 1000 iteration(s) (status=1):\n",
      "STOP: TOTAL NO. of ITERATIONS REACHED LIMIT\n",
      "\n",
      "Increase the number of iterations to improve the convergence (max_iter=1000).\n",
      "You might also want to scale the data as shown in:\n",
      "    https://scikit-learn.org/stable/modules/preprocessing.html\n",
      "Please also refer to the documentation for alternative solver options:\n",
      "    https://scikit-learn.org/stable/modules/linear_model.html#logistic-regression\n",
      "  n_iter_i = _check_optimize_result(\n",
      "c:\\Users\\Lenovo\\miniconda3\\Lib\\site-packages\\sklearn\\linear_model\\_logistic.py:473: ConvergenceWarning: lbfgs failed to converge after 1000 iteration(s) (status=1):\n",
      "STOP: TOTAL NO. of ITERATIONS REACHED LIMIT\n",
      "\n",
      "Increase the number of iterations to improve the convergence (max_iter=1000).\n",
      "You might also want to scale the data as shown in:\n",
      "    https://scikit-learn.org/stable/modules/preprocessing.html\n",
      "Please also refer to the documentation for alternative solver options:\n",
      "    https://scikit-learn.org/stable/modules/linear_model.html#logistic-regression\n",
      "  n_iter_i = _check_optimize_result(\n",
      "c:\\Users\\Lenovo\\miniconda3\\Lib\\site-packages\\sklearn\\linear_model\\_logistic.py:473: ConvergenceWarning: lbfgs failed to converge after 1000 iteration(s) (status=1):\n",
      "STOP: TOTAL NO. of ITERATIONS REACHED LIMIT\n",
      "\n",
      "Increase the number of iterations to improve the convergence (max_iter=1000).\n",
      "You might also want to scale the data as shown in:\n",
      "    https://scikit-learn.org/stable/modules/preprocessing.html\n",
      "Please also refer to the documentation for alternative solver options:\n",
      "    https://scikit-learn.org/stable/modules/linear_model.html#logistic-regression\n",
      "  n_iter_i = _check_optimize_result(\n",
      "c:\\Users\\Lenovo\\miniconda3\\Lib\\site-packages\\sklearn\\linear_model\\_logistic.py:473: ConvergenceWarning: lbfgs failed to converge after 1000 iteration(s) (status=1):\n",
      "STOP: TOTAL NO. of ITERATIONS REACHED LIMIT\n",
      "\n",
      "Increase the number of iterations to improve the convergence (max_iter=1000).\n",
      "You might also want to scale the data as shown in:\n",
      "    https://scikit-learn.org/stable/modules/preprocessing.html\n",
      "Please also refer to the documentation for alternative solver options:\n",
      "    https://scikit-learn.org/stable/modules/linear_model.html#logistic-regression\n",
      "  n_iter_i = _check_optimize_result(\n",
      "c:\\Users\\Lenovo\\miniconda3\\Lib\\site-packages\\sklearn\\linear_model\\_logistic.py:473: ConvergenceWarning: lbfgs failed to converge after 1000 iteration(s) (status=1):\n",
      "STOP: TOTAL NO. of ITERATIONS REACHED LIMIT\n",
      "\n",
      "Increase the number of iterations to improve the convergence (max_iter=1000).\n",
      "You might also want to scale the data as shown in:\n",
      "    https://scikit-learn.org/stable/modules/preprocessing.html\n",
      "Please also refer to the documentation for alternative solver options:\n",
      "    https://scikit-learn.org/stable/modules/linear_model.html#logistic-regression\n",
      "  n_iter_i = _check_optimize_result(\n",
      "c:\\Users\\Lenovo\\miniconda3\\Lib\\site-packages\\sklearn\\linear_model\\_logistic.py:473: ConvergenceWarning: lbfgs failed to converge after 1000 iteration(s) (status=1):\n",
      "STOP: TOTAL NO. of ITERATIONS REACHED LIMIT\n",
      "\n",
      "Increase the number of iterations to improve the convergence (max_iter=1000).\n",
      "You might also want to scale the data as shown in:\n",
      "    https://scikit-learn.org/stable/modules/preprocessing.html\n",
      "Please also refer to the documentation for alternative solver options:\n",
      "    https://scikit-learn.org/stable/modules/linear_model.html#logistic-regression\n",
      "  n_iter_i = _check_optimize_result(\n",
      "c:\\Users\\Lenovo\\miniconda3\\Lib\\site-packages\\sklearn\\linear_model\\_logistic.py:473: ConvergenceWarning: lbfgs failed to converge after 1000 iteration(s) (status=1):\n",
      "STOP: TOTAL NO. of ITERATIONS REACHED LIMIT\n",
      "\n",
      "Increase the number of iterations to improve the convergence (max_iter=1000).\n",
      "You might also want to scale the data as shown in:\n",
      "    https://scikit-learn.org/stable/modules/preprocessing.html\n",
      "Please also refer to the documentation for alternative solver options:\n",
      "    https://scikit-learn.org/stable/modules/linear_model.html#logistic-regression\n",
      "  n_iter_i = _check_optimize_result(\n",
      "c:\\Users\\Lenovo\\miniconda3\\Lib\\site-packages\\sklearn\\linear_model\\_logistic.py:473: ConvergenceWarning: lbfgs failed to converge after 1000 iteration(s) (status=1):\n",
      "STOP: TOTAL NO. of ITERATIONS REACHED LIMIT\n",
      "\n",
      "Increase the number of iterations to improve the convergence (max_iter=1000).\n",
      "You might also want to scale the data as shown in:\n",
      "    https://scikit-learn.org/stable/modules/preprocessing.html\n",
      "Please also refer to the documentation for alternative solver options:\n",
      "    https://scikit-learn.org/stable/modules/linear_model.html#logistic-regression\n",
      "  n_iter_i = _check_optimize_result(\n",
      "c:\\Users\\Lenovo\\miniconda3\\Lib\\site-packages\\sklearn\\linear_model\\_logistic.py:473: ConvergenceWarning: lbfgs failed to converge after 1000 iteration(s) (status=1):\n",
      "STOP: TOTAL NO. of ITERATIONS REACHED LIMIT\n",
      "\n",
      "Increase the number of iterations to improve the convergence (max_iter=1000).\n",
      "You might also want to scale the data as shown in:\n",
      "    https://scikit-learn.org/stable/modules/preprocessing.html\n",
      "Please also refer to the documentation for alternative solver options:\n",
      "    https://scikit-learn.org/stable/modules/linear_model.html#logistic-regression\n",
      "  n_iter_i = _check_optimize_result(\n",
      "c:\\Users\\Lenovo\\miniconda3\\Lib\\site-packages\\sklearn\\linear_model\\_logistic.py:473: ConvergenceWarning: lbfgs failed to converge after 1000 iteration(s) (status=1):\n",
      "STOP: TOTAL NO. of ITERATIONS REACHED LIMIT\n",
      "\n",
      "Increase the number of iterations to improve the convergence (max_iter=1000).\n",
      "You might also want to scale the data as shown in:\n",
      "    https://scikit-learn.org/stable/modules/preprocessing.html\n",
      "Please also refer to the documentation for alternative solver options:\n",
      "    https://scikit-learn.org/stable/modules/linear_model.html#logistic-regression\n",
      "  n_iter_i = _check_optimize_result(\n",
      "c:\\Users\\Lenovo\\miniconda3\\Lib\\site-packages\\sklearn\\linear_model\\_logistic.py:473: ConvergenceWarning: lbfgs failed to converge after 1000 iteration(s) (status=1):\n",
      "STOP: TOTAL NO. of ITERATIONS REACHED LIMIT\n",
      "\n",
      "Increase the number of iterations to improve the convergence (max_iter=1000).\n",
      "You might also want to scale the data as shown in:\n",
      "    https://scikit-learn.org/stable/modules/preprocessing.html\n",
      "Please also refer to the documentation for alternative solver options:\n",
      "    https://scikit-learn.org/stable/modules/linear_model.html#logistic-regression\n",
      "  n_iter_i = _check_optimize_result(\n",
      "c:\\Users\\Lenovo\\miniconda3\\Lib\\site-packages\\sklearn\\linear_model\\_logistic.py:473: ConvergenceWarning: lbfgs failed to converge after 1000 iteration(s) (status=1):\n",
      "STOP: TOTAL NO. of ITERATIONS REACHED LIMIT\n",
      "\n",
      "Increase the number of iterations to improve the convergence (max_iter=1000).\n",
      "You might also want to scale the data as shown in:\n",
      "    https://scikit-learn.org/stable/modules/preprocessing.html\n",
      "Please also refer to the documentation for alternative solver options:\n",
      "    https://scikit-learn.org/stable/modules/linear_model.html#logistic-regression\n",
      "  n_iter_i = _check_optimize_result(\n",
      "c:\\Users\\Lenovo\\miniconda3\\Lib\\site-packages\\sklearn\\linear_model\\_logistic.py:473: ConvergenceWarning: lbfgs failed to converge after 1000 iteration(s) (status=1):\n",
      "STOP: TOTAL NO. of ITERATIONS REACHED LIMIT\n",
      "\n",
      "Increase the number of iterations to improve the convergence (max_iter=1000).\n",
      "You might also want to scale the data as shown in:\n",
      "    https://scikit-learn.org/stable/modules/preprocessing.html\n",
      "Please also refer to the documentation for alternative solver options:\n",
      "    https://scikit-learn.org/stable/modules/linear_model.html#logistic-regression\n",
      "  n_iter_i = _check_optimize_result(\n",
      "c:\\Users\\Lenovo\\miniconda3\\Lib\\site-packages\\sklearn\\linear_model\\_logistic.py:473: ConvergenceWarning: lbfgs failed to converge after 1000 iteration(s) (status=1):\n",
      "STOP: TOTAL NO. of ITERATIONS REACHED LIMIT\n",
      "\n",
      "Increase the number of iterations to improve the convergence (max_iter=1000).\n",
      "You might also want to scale the data as shown in:\n",
      "    https://scikit-learn.org/stable/modules/preprocessing.html\n",
      "Please also refer to the documentation for alternative solver options:\n",
      "    https://scikit-learn.org/stable/modules/linear_model.html#logistic-regression\n",
      "  n_iter_i = _check_optimize_result(\n",
      "c:\\Users\\Lenovo\\miniconda3\\Lib\\site-packages\\sklearn\\linear_model\\_logistic.py:473: ConvergenceWarning: lbfgs failed to converge after 1000 iteration(s) (status=1):\n",
      "STOP: TOTAL NO. of ITERATIONS REACHED LIMIT\n",
      "\n",
      "Increase the number of iterations to improve the convergence (max_iter=1000).\n",
      "You might also want to scale the data as shown in:\n",
      "    https://scikit-learn.org/stable/modules/preprocessing.html\n",
      "Please also refer to the documentation for alternative solver options:\n",
      "    https://scikit-learn.org/stable/modules/linear_model.html#logistic-regression\n",
      "  n_iter_i = _check_optimize_result(\n",
      "c:\\Users\\Lenovo\\miniconda3\\Lib\\site-packages\\sklearn\\linear_model\\_logistic.py:473: ConvergenceWarning: lbfgs failed to converge after 1000 iteration(s) (status=1):\n",
      "STOP: TOTAL NO. of ITERATIONS REACHED LIMIT\n",
      "\n",
      "Increase the number of iterations to improve the convergence (max_iter=1000).\n",
      "You might also want to scale the data as shown in:\n",
      "    https://scikit-learn.org/stable/modules/preprocessing.html\n",
      "Please also refer to the documentation for alternative solver options:\n",
      "    https://scikit-learn.org/stable/modules/linear_model.html#logistic-regression\n",
      "  n_iter_i = _check_optimize_result(\n",
      "c:\\Users\\Lenovo\\miniconda3\\Lib\\site-packages\\sklearn\\linear_model\\_logistic.py:473: ConvergenceWarning: lbfgs failed to converge after 1000 iteration(s) (status=1):\n",
      "STOP: TOTAL NO. of ITERATIONS REACHED LIMIT\n",
      "\n",
      "Increase the number of iterations to improve the convergence (max_iter=1000).\n",
      "You might also want to scale the data as shown in:\n",
      "    https://scikit-learn.org/stable/modules/preprocessing.html\n",
      "Please also refer to the documentation for alternative solver options:\n",
      "    https://scikit-learn.org/stable/modules/linear_model.html#logistic-regression\n",
      "  n_iter_i = _check_optimize_result(\n",
      "c:\\Users\\Lenovo\\miniconda3\\Lib\\site-packages\\sklearn\\linear_model\\_logistic.py:473: ConvergenceWarning: lbfgs failed to converge after 1000 iteration(s) (status=1):\n",
      "STOP: TOTAL NO. of ITERATIONS REACHED LIMIT\n",
      "\n",
      "Increase the number of iterations to improve the convergence (max_iter=1000).\n",
      "You might also want to scale the data as shown in:\n",
      "    https://scikit-learn.org/stable/modules/preprocessing.html\n",
      "Please also refer to the documentation for alternative solver options:\n",
      "    https://scikit-learn.org/stable/modules/linear_model.html#logistic-regression\n",
      "  n_iter_i = _check_optimize_result(\n",
      "c:\\Users\\Lenovo\\miniconda3\\Lib\\site-packages\\sklearn\\linear_model\\_logistic.py:473: ConvergenceWarning: lbfgs failed to converge after 1000 iteration(s) (status=1):\n",
      "STOP: TOTAL NO. of ITERATIONS REACHED LIMIT\n",
      "\n",
      "Increase the number of iterations to improve the convergence (max_iter=1000).\n",
      "You might also want to scale the data as shown in:\n",
      "    https://scikit-learn.org/stable/modules/preprocessing.html\n",
      "Please also refer to the documentation for alternative solver options:\n",
      "    https://scikit-learn.org/stable/modules/linear_model.html#logistic-regression\n",
      "  n_iter_i = _check_optimize_result(\n"
     ]
    },
    {
     "name": "stdout",
     "output_type": "stream",
     "text": [
      "95% Confidence Interval: Lower = -0.03423757481168047, Upper = -0.03423757481168047\n"
     ]
    }
   ],
   "source": [
    "results_dict_dr_t_learner = {\n",
    "    \"logist_reg\": bootstrap_confidence_interval_dr_t_learner(logist_reg_model_1, logist_reg_model_0, X_train_trimmed, y_train_trimmed, X_val_trimmed, y_val_trimmed),\n",
    "    \"rand_forest\": bootstrap_confidence_interval_dr_t_learner(rand_forest_model_1, rand_forest_model_0, X_train_trimmed, y_train_trimmed, X_val_trimmed, y_val_trimmed),\n",
    "    \"nn\": bootstrap_confidence_interval_dr_t_learner(nn_model_1, nn_model_0, X_train_trimmed, y_train_trimmed, X_val_trimmed, y_val_trimmed),\n",
    "}"
   ]
  },
  {
   "cell_type": "code",
   "execution_count": 145,
   "id": "b8e76f41",
   "metadata": {},
   "outputs": [
    {
     "data": {
      "text/plain": [
       "(array([-0.03423757, -0.03423757]),\n",
       " [-0.03423757481168047,\n",
       "  -0.03423757481168047,\n",
       "  -0.03423757481168047,\n",
       "  -0.03423757481168047,\n",
       "  -0.03423757481168047,\n",
       "  -0.03423757481168047,\n",
       "  -0.03423757481168047,\n",
       "  -0.03423757481168047,\n",
       "  -0.03423757481168047,\n",
       "  -0.03423757481168047,\n",
       "  -0.03423757481168047,\n",
       "  -0.03423757481168047,\n",
       "  -0.03423757481168047,\n",
       "  -0.03423757481168047,\n",
       "  -0.03423757481168047,\n",
       "  -0.03423757481168047,\n",
       "  -0.03423757481168047,\n",
       "  -0.03423757481168047,\n",
       "  -0.03423757481168047,\n",
       "  -0.03423757481168047])"
      ]
     },
     "execution_count": 145,
     "metadata": {},
     "output_type": "execute_result"
    }
   ],
   "source": [
    "results_dict_dr_t_learner[\"nn\"]"
   ]
  },
  {
   "cell_type": "code",
   "execution_count": 152,
   "id": "1df79657",
   "metadata": {},
   "outputs": [
    {
     "data": {
      "image/png": "[encoded data removed]",
      "text/plain": [
       "<Figure size 1000x600 with 1 Axes>"
      ]
     },
     "metadata": {},
     "output_type": "display_data"
    }
   ],
   "source": [
    "plot_bootstrap_estimates([v[1] for v in results_dict_dr_t_learner.values()], ['Logistic Regression', 'Random Forest', 'Neural Network'], dot_color = \"orange\")"
   ]
  },
  {
   "cell_type": "markdown",
   "id": "c14e7101",
   "metadata": {},
   "source": [
    "### S-Learner"
   ]
  },
  {
   "cell_type": "code",
   "execution_count": null,
   "id": "6da87156",
   "metadata": {},
   "outputs": [],
   "source": [
    "def bootstrap_confidence_interval_dr_s_learner(s_learner_model, X_train, y_train, X_val, y_val):\n",
    "    np.random.seed(2025)\n",
    "    bootstrap_sample_size = 1000\n",
    "    alpha = 0.05\n",
    "    test_data  = pd.concat([X_val, y_val], axis=1)\n",
    "    s_learner_model_train_data = deepcopy(X_train) # notice that T is not included in learning\n",
    "    ate_estimates = []\n",
    "    # Bootstrap sampling and model fitting\n",
    "    for i in range(bootstrap_sample_size):\n",
    "        s_learner_model = s_learner_model.get_model_no_train()\n",
    "        IPW_model = LogisticRegression(max_iter=1000, random_state=42) # best previously found propensity model\n",
    "        # Generate bootstrap indices\n",
    "        bootstrap_indices = np.random.choice(s_learner_model_train_data.index,\n",
    "                                            size=s_learner_model_train_data.shape[0],\n",
    "                                            replace=True)\n",
    "        # Create the bootstrap sample using the indices\n",
    "        X_train_resampled = s_learner_model_train_data.loc[bootstrap_indices]\n",
    "        y_train_resampled = y_train.loc[bootstrap_indices]\n",
    "\n",
    "        # fit outcome model\n",
    "        s_learner_model.fit(X_train_resampled, y_train_resampled)\n",
    "\n",
    "        # fit propensity model\n",
    "        IPW_model.fit(X_train_resampled.drop(columns=['T'], inplace = False), X_train_resampled['T'])\n",
    "        # get propensity on test\n",
    "        temp_test_data = deepcopy(test_data)\n",
    "        temp_test_data['propensity'] = IPW_model.predict_proba(temp_test_data[confounders])[:, 1]\n",
    "        X_val_1 = X_val.copy()\n",
    "        X_val_0 = X_val.copy() \n",
    "\n",
    "        X_val_1['T'] = 1\n",
    "        X_val_0['T'] = 0\n",
    "\n",
    "        temp_test_data['y1_estimate'] = s_learner_model.predict(X_val_1)\n",
    "        temp_test_data['y0_estimate'] = s_learner_model.predict(X_val_0)\n",
    "        temp_test_data['dr1_estimate'] = temp_test_data.apply(lambda x: dr_estimator(x, 1), axis=1)\n",
    "        temp_test_data['dr0_estimate'] = temp_test_data.apply(lambda x: dr_estimator(x, 0), axis=1)\n",
    "        ate_estimate = np.mean(temp_test_data['dr1_estimate'] - temp_test_data['dr0_estimate'])\n",
    "        ate_estimates.append(ate_estimate)\n",
    "\n",
    "    # Convert the list of estimates into a numpy array\n",
    "    dr_bootstrap_estimates = np.array(ate_estimates)\n",
    "\n",
    "    # Calculate the lower and upper percentiles to get the CI\n",
    "    dr_ci = np.percentile(dr_bootstrap_estimates, [100 * alpha / 2, 100 * (1 - alpha / 2)], axis=0)\n",
    "\n",
    "    # Print the confidence interval (for example, for the first prediction)\n",
    "    print(f\"95% Confidence Interval: Lower = {dr_ci[0]}, Upper = {dr_ci[1]}\")"
   ]
  },
  {
   "cell_type": "code",
   "execution_count": null,
   "id": "d497d193",
   "metadata": {},
   "outputs": [],
   "source": [
    "results_dict_dr_s_learner = {\n",
    "    \"logist_reg\": bootstrap_confidence_interval_dr_s_learner(best_model_logist_reg.get_model_no_train(), X_train_trimmed, y_train_trimmed, X_val_trimmed, y_val_trimmed),\n",
    "    \"rand_forest\": bootstrap_confidence_interval_dr_s_learner(best_model_rand_forest.get_model_no_train(), X_train_trimmed, y_train_trimmed, X_val_trimmed, y_val_trimmed),\n",
    "    \"nn\": bootstrap_confidence_interval_dr_s_learner(best_model_nn.get_model_no_train(), X_train_trimmed, y_train_trimmed, X_val_trimmed, y_val_trimmed),\n",
    "}"
   ]
  }
 ],
 "metadata": {
  "kernelspec": {
   "display_name": "base",
   "language": "python",
   "name": "python3"
  },
  "language_info": {
   "codemirror_mode": {
    "name": "ipython",
    "version": 3
   },
   "file_extension": ".py",
   "mimetype": "text/x-python",
   "name": "python",
   "nbconvert_exporter": "python",
   "pygments_lexer": "ipython3",
   "version": "3.12.3"
  }
 },
 "nbformat": 4,
 "nbformat_minor": 5
}
